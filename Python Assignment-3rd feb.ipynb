{
 "cells": [
  {
   "cell_type": "markdown",
   "id": "725d1c3f-5eb2-4c29-8673-b974391b10cd",
   "metadata": {},
   "source": [
    "Q1. Which keyword is used to create a function? Create a function to return a list of odd numbers in the\n",
    "range of 1 to 25."
   ]
  },
  {
   "cell_type": "markdown",
   "id": "5232e0c2-31e4-4376-9254-02484b84b57d",
   "metadata": {},
   "source": [
    "\"def\" keyword is used to create the function in python."
   ]
  },
  {
   "cell_type": "code",
   "execution_count": 2,
   "id": "be16c723-750f-49f2-ae64-64f17e182b12",
   "metadata": {},
   "outputs": [],
   "source": [
    "def odd(n):\n",
    "    for i in range(n):\n",
    "        if i%2!=0:\n",
    "            print(i)\n",
    "            "
   ]
  },
  {
   "cell_type": "code",
   "execution_count": 3,
   "id": "4f24b798-e401-4b65-a6cf-79826fd17353",
   "metadata": {},
   "outputs": [
    {
     "name": "stdout",
     "output_type": "stream",
     "text": [
      "1\n",
      "3\n",
      "5\n",
      "7\n",
      "9\n",
      "11\n",
      "13\n",
      "15\n",
      "17\n",
      "19\n",
      "21\n",
      "23\n"
     ]
    }
   ],
   "source": [
    "odd(25)"
   ]
  },
  {
   "cell_type": "markdown",
   "id": "610a960f-d787-4d06-b9d4-c21ff6fcb338",
   "metadata": {},
   "source": [
    "Q2. Why *args and **kwargs is used in some functions? Create a function each for *args and **kwargs\n",
    "to demonstrate their use."
   ]
  },
  {
   "cell_type": "markdown",
   "id": "73daca86-0299-415c-bce4-69fcaee6cd97",
   "metadata": {},
   "source": [
    "*args is used to pass any number of non-keyword arguments to the function."
   ]
  },
  {
   "cell_type": "code",
   "execution_count": 13,
   "id": "859c2f53-5852-49bf-8300-dae450eef68d",
   "metadata": {},
   "outputs": [],
   "source": [
    "def sum(*args):\n",
    "    sum=0\n",
    "    for i in args:\n",
    "        sum=sum+i\n",
    "    print(sum)"
   ]
  },
  {
   "cell_type": "code",
   "execution_count": 14,
   "id": "b6908737-28be-403d-89d9-4d7a5ef64055",
   "metadata": {},
   "outputs": [
    {
     "name": "stdout",
     "output_type": "stream",
     "text": [
      "11.7\n"
     ]
    }
   ],
   "source": [
    "sum(2,3,6.7)"
   ]
  },
  {
   "cell_type": "markdown",
   "id": "7bb42dab-46e0-4b8c-a938-35529b4c1b70",
   "metadata": {},
   "source": [
    "**kargs is used to pass any number of keyword arguments to the function especially used for dictionary operation"
   ]
  },
  {
   "cell_type": "code",
   "execution_count": 18,
   "id": "9a5e6b11-093f-4fab-9fd4-bd21c34c5c02",
   "metadata": {},
   "outputs": [],
   "source": [
    "def bio(**kargs):\n",
    "    for key, value in kargs.items():\n",
    "        print(\"{} is {}\".format(key,value))"
   ]
  },
  {
   "cell_type": "code",
   "execution_count": 21,
   "id": "d91a316c-3bf0-474f-b555-5a9eb43f7a8d",
   "metadata": {},
   "outputs": [
    {
     "name": "stdout",
     "output_type": "stream",
     "text": [
      "Name is Shashi Kumar\n",
      "Age is 22\n",
      "Phone is 8907689765\n"
     ]
    }
   ],
   "source": [
    "bio(Name=\"Shashi Kumar\", Age=22, Phone=8907689765)"
   ]
  },
  {
   "cell_type": "markdown",
   "id": "89c3ae6d-27e4-4b9a-bc8f-31f36b901517",
   "metadata": {},
   "source": [
    "Q3. What is an iterator in python? Name the method used to initialise the iterator object and the method\n",
    "used for iteration. Use these methods to print the first five elements of the given list [2, 4, 6, 8, 10, 12, 14,\n",
    "16, 18, 20]."
   ]
  },
  {
   "cell_type": "markdown",
   "id": "c94f89d4-cd9d-4243-968b-5688e72d21d2",
   "metadata": {},
   "source": [
    "Iterator are objects that iterate one value at a time through iterable objects. \n",
    "iter() method is used to initialise the iterator object & next() method is used for iteration."
   ]
  },
  {
   "cell_type": "code",
   "execution_count": 30,
   "id": "e246c3f1-0d17-4574-bd5f-99ddb390057a",
   "metadata": {},
   "outputs": [
    {
     "name": "stdout",
     "output_type": "stream",
     "text": [
      "2\n",
      "4\n",
      "6\n",
      "8\n",
      "10\n"
     ]
    }
   ],
   "source": [
    "l=[2,4,6,8,10,12,14,16,18,20]\n",
    "d=iter(l)\n",
    "for i in range(5):\n",
    "    print(next(d))"
   ]
  },
  {
   "cell_type": "markdown",
   "id": "0be72727-599c-4c2b-9fec-8cf5df3260ba",
   "metadata": {},
   "source": [
    "Q4. What is a generator function in python? Why yield keyword is used? Give an example of a generator\n",
    "function."
   ]
  },
  {
   "cell_type": "markdown",
   "id": "92f61ec6-951e-457a-b869-16a75fcc952a",
   "metadata": {},
   "source": [
    "Generator function are the functions which generate output one by one without holding everything into the memory. "
   ]
  },
  {
   "cell_type": "markdown",
   "id": "30fba317-09fa-40e8-b2be-dae7c0ca764b",
   "metadata": {},
   "source": [
    "Yield keyword is used to generate value one by one in the way that this keyword suspends a function’s execution and sends a value back to the caller, but retains enough state to enable the function to resume where it left off. When the function resumes, it continues execution immediately after the last yield run. This allows its code to produce a series of values over time, rather than computing them at once and sending them back like a list."
   ]
  },
  {
   "cell_type": "code",
   "execution_count": 18,
   "id": "018288d8-8ace-47e3-ba26-fb8c0a312a24",
   "metadata": {},
   "outputs": [],
   "source": [
    "#square number from 1 to n\n",
    "def square(n):\n",
    "    for i in range(n):\n",
    "        i=i+1\n",
    "        yield i*i"
   ]
  },
  {
   "cell_type": "code",
   "execution_count": 19,
   "id": "58a04560-319b-4a25-b905-0b95ba04f32b",
   "metadata": {},
   "outputs": [
    {
     "name": "stdout",
     "output_type": "stream",
     "text": [
      "1\n",
      "4\n",
      "9\n",
      "16\n",
      "25\n"
     ]
    }
   ],
   "source": [
    "for i in square(5):\n",
    "    print(i)"
   ]
  },
  {
   "cell_type": "markdown",
   "id": "890a5e77-d12b-4a3c-8639-962bb72988cd",
   "metadata": {},
   "source": [
    "Q5. Create a generator function for prime numbers less than 1000. Use the next() method to print the\n",
    "first 20 prime numbers."
   ]
  },
  {
   "cell_type": "code",
   "execution_count": 42,
   "id": "e320b6ac-6e8e-422f-bd23-b45e021df834",
   "metadata": {},
   "outputs": [],
   "source": [
    "def prime(n):\n",
    "    for i in range(n):\n",
    "        count=0\n",
    "        for a in range(i):\n",
    "            a=a+1\n",
    "            if i%a==0:\n",
    "                count=count+1\n",
    "        if count==2:\n",
    "            yield i          "
   ]
  },
  {
   "cell_type": "code",
   "execution_count": 43,
   "id": "1593da21-93aa-4c57-8d5c-ca0598e2ade9",
   "metadata": {},
   "outputs": [
    {
     "data": {
      "text/plain": [
       "<generator object prime at 0x7fa9dc1954d0>"
      ]
     },
     "execution_count": 43,
     "metadata": {},
     "output_type": "execute_result"
    }
   ],
   "source": [
    "prime(1000)"
   ]
  },
  {
   "cell_type": "code",
   "execution_count": 44,
   "id": "0e5a7379-a2eb-42f9-9159-980735d6c50f",
   "metadata": {},
   "outputs": [],
   "source": [
    "l=prime(1000)"
   ]
  },
  {
   "cell_type": "code",
   "execution_count": 45,
   "id": "603df1a9-f4e2-4de5-9dcc-8d5062e9e3c3",
   "metadata": {},
   "outputs": [
    {
     "name": "stdout",
     "output_type": "stream",
     "text": [
      "2\n",
      "3\n",
      "5\n",
      "7\n",
      "11\n",
      "13\n",
      "17\n",
      "19\n",
      "23\n",
      "29\n",
      "31\n",
      "37\n",
      "41\n",
      "43\n",
      "47\n",
      "53\n",
      "59\n",
      "61\n",
      "67\n",
      "71\n"
     ]
    }
   ],
   "source": [
    "d=iter(l)\n",
    "for i in range(20):\n",
    "    print(next(d))"
   ]
  },
  {
   "cell_type": "code",
   "execution_count": 46,
   "id": "1059c4e2-7fb9-449c-85f5-99a0a42d8032",
   "metadata": {},
   "outputs": [
    {
     "name": "stdout",
     "output_type": "stream",
     "text": [
      "2\n",
      "3\n",
      "5\n",
      "7\n",
      "11\n",
      "13\n",
      "17\n",
      "19\n",
      "23\n",
      "29\n",
      "31\n",
      "37\n",
      "41\n",
      "43\n",
      "47\n",
      "53\n",
      "59\n",
      "61\n",
      "67\n",
      "71\n",
      "73\n",
      "79\n",
      "83\n",
      "89\n",
      "97\n",
      "101\n",
      "103\n",
      "107\n",
      "109\n",
      "113\n",
      "127\n",
      "131\n",
      "137\n",
      "139\n",
      "149\n",
      "151\n",
      "157\n",
      "163\n",
      "167\n",
      "173\n",
      "179\n",
      "181\n",
      "191\n",
      "193\n",
      "197\n",
      "199\n",
      "211\n",
      "223\n",
      "227\n",
      "229\n",
      "233\n",
      "239\n",
      "241\n",
      "251\n",
      "257\n",
      "263\n",
      "269\n",
      "271\n",
      "277\n",
      "281\n",
      "283\n",
      "293\n",
      "307\n",
      "311\n",
      "313\n",
      "317\n",
      "331\n",
      "337\n",
      "347\n",
      "349\n",
      "353\n",
      "359\n",
      "367\n",
      "373\n",
      "379\n",
      "383\n",
      "389\n",
      "397\n",
      "401\n",
      "409\n",
      "419\n",
      "421\n",
      "431\n",
      "433\n",
      "439\n",
      "443\n",
      "449\n",
      "457\n",
      "461\n",
      "463\n",
      "467\n",
      "479\n",
      "487\n",
      "491\n",
      "499\n",
      "503\n",
      "509\n",
      "521\n",
      "523\n",
      "541\n",
      "547\n",
      "557\n",
      "563\n",
      "569\n",
      "571\n",
      "577\n",
      "587\n",
      "593\n",
      "599\n",
      "601\n",
      "607\n",
      "613\n",
      "617\n",
      "619\n",
      "631\n",
      "641\n",
      "643\n",
      "647\n",
      "653\n",
      "659\n",
      "661\n",
      "673\n",
      "677\n",
      "683\n",
      "691\n",
      "701\n",
      "709\n",
      "719\n",
      "727\n",
      "733\n",
      "739\n",
      "743\n",
      "751\n",
      "757\n",
      "761\n",
      "769\n",
      "773\n",
      "787\n",
      "797\n",
      "809\n",
      "811\n",
      "821\n",
      "823\n",
      "827\n",
      "829\n",
      "839\n",
      "853\n",
      "857\n",
      "859\n",
      "863\n",
      "877\n",
      "881\n",
      "883\n",
      "887\n",
      "907\n",
      "911\n",
      "919\n",
      "929\n",
      "937\n",
      "941\n",
      "947\n",
      "953\n",
      "967\n",
      "971\n",
      "977\n",
      "983\n",
      "991\n",
      "997\n"
     ]
    }
   ],
   "source": [
    "for i in prime(1000):\n",
    "    print(i)"
   ]
  },
  {
   "cell_type": "markdown",
   "id": "2a440e47-878f-4d7c-a6dc-86ffddbcdb31",
   "metadata": {},
   "source": [
    "Q6. Write a python program to print the first 10 Fibonacci numbers using a while loop."
   ]
  },
  {
   "cell_type": "code",
   "execution_count": 50,
   "id": "9595d961-6bde-46ce-8b88-8042ac45827f",
   "metadata": {},
   "outputs": [
    {
     "name": "stdout",
     "output_type": "stream",
     "text": [
      "0\n",
      "1\n",
      "1\n",
      "2\n",
      "3\n",
      "5\n",
      "8\n",
      "13\n",
      "21\n",
      "34\n"
     ]
    }
   ],
   "source": [
    "a,b=0,1\n",
    "i=0\n",
    "while(i<10):\n",
    "    print(a)\n",
    "    a,b=b,a+b\n",
    "    i=i+1"
   ]
  },
  {
   "cell_type": "markdown",
   "id": "1159a9df-b5f3-4537-a84d-3f1503833d92",
   "metadata": {},
   "source": [
    "Q7. Write a List Comprehension to iterate through the given string: ‘pwskills’.\n",
    "\n",
    "Expected output: ['p', 'w', 's', 'k', 'i', 'l', 'l', 's']"
   ]
  },
  {
   "cell_type": "code",
   "execution_count": 57,
   "id": "0e4efa57-5e35-4a57-aba5-f3cc37e8ab21",
   "metadata": {},
   "outputs": [
    {
     "name": "stdout",
     "output_type": "stream",
     "text": [
      "['p', 'w', 's', 'k', 'i', 'l', 'l', 's']\n"
     ]
    }
   ],
   "source": [
    "l=[i for i in \"pwskills\"]\n",
    "print(l)"
   ]
  },
  {
   "cell_type": "markdown",
   "id": "9e76c250-0496-42fe-8fc5-5ee870fbd6c5",
   "metadata": {},
   "source": [
    "Q8. Write a python program to check whether a given number is Palindrome or not using a while loop."
   ]
  },
  {
   "cell_type": "code",
   "execution_count": 3,
   "id": "4f5385d9-ac6f-4cf2-b0f0-d7fe94d6aa9c",
   "metadata": {},
   "outputs": [],
   "source": [
    "def palindrome(n):\n",
    "    rev=0\n",
    "    t=n\n",
    "    while t>0:\n",
    "        l=t%10\n",
    "        rev=rev*10+l\n",
    "        t=t//10\n",
    "    if n==rev:\n",
    "        print(\"Number is palindrome\")\n",
    "    else: \n",
    "        print(\"Number is not Palindrome\")"
   ]
  },
  {
   "cell_type": "code",
   "execution_count": 5,
   "id": "5751d496-2c26-4099-a1cf-ab7e13b71aaf",
   "metadata": {},
   "outputs": [
    {
     "name": "stdout",
     "output_type": "stream",
     "text": [
      "Number is palindrome\n"
     ]
    }
   ],
   "source": [
    "palindrome(121)"
   ]
  },
  {
   "cell_type": "markdown",
   "id": "b4f7db55-21ee-45de-9f8a-6ac955e277fd",
   "metadata": {},
   "source": [
    "Q9. Write a code to print odd numbers from 1 to 100 using list comprehension."
   ]
  },
  {
   "cell_type": "code",
   "execution_count": 9,
   "id": "2deb66a8-472a-47fe-ba07-dc84203e552a",
   "metadata": {},
   "outputs": [
    {
     "name": "stdout",
     "output_type": "stream",
     "text": [
      "[1, 3, 5, 7, 9, 11, 13, 15, 17, 19, 21, 23, 25, 27, 29, 31, 33, 35, 37, 39, 41, 43, 45, 47, 49, 51, 53, 55, 57, 59, 61, 63, 65, 67, 69, 71, 73, 75, 77, 79, 81, 83, 85, 87, 89, 91, 93, 95, 97, 99]\n"
     ]
    }
   ],
   "source": [
    "odd=[x for x in range(100) if x%2!=0]\n",
    "print(odd)"
   ]
  },
  {
   "cell_type": "code",
   "execution_count": null,
   "id": "51e77cb0-40dd-430f-adb5-4d7af933ec83",
   "metadata": {},
   "outputs": [],
   "source": []
  }
 ],
 "metadata": {
  "kernelspec": {
   "display_name": "Python 3 (ipykernel)",
   "language": "python",
   "name": "python3"
  },
  "language_info": {
   "codemirror_mode": {
    "name": "ipython",
    "version": 3
   },
   "file_extension": ".py",
   "mimetype": "text/x-python",
   "name": "python",
   "nbconvert_exporter": "python",
   "pygments_lexer": "ipython3",
   "version": "3.10.8"
  }
 },
 "nbformat": 4,
 "nbformat_minor": 5
}
