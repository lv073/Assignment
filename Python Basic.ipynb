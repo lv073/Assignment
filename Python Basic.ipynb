{
 "cells": [
  {
   "cell_type": "code",
   "execution_count": 1,
   "id": "01a134c0-843a-4845-a26e-9d56b2bf4615",
   "metadata": {},
   "outputs": [],
   "source": [
    "a=5.6"
   ]
  },
  {
   "cell_type": "code",
   "execution_count": 2,
   "id": "761b4b66-987f-41fc-b80f-7fa4db45e9be",
   "metadata": {},
   "outputs": [
    {
     "data": {
      "text/plain": [
       "5.6"
      ]
     },
     "execution_count": 2,
     "metadata": {},
     "output_type": "execute_result"
    }
   ],
   "source": [
    "a"
   ]
  },
  {
   "cell_type": "code",
   "execution_count": 4,
   "id": "48a530ab-f462-4774-97e1-305bf964eedf",
   "metadata": {},
   "outputs": [
    {
     "data": {
      "text/plain": [
       "float"
      ]
     },
     "execution_count": 4,
     "metadata": {},
     "output_type": "execute_result"
    }
   ],
   "source": [
    "\n",
    "type(a)"
   ]
  },
  {
   "cell_type": "code",
   "execution_count": 5,
   "id": "8e179d20-43f2-42f9-ac2d-daa214b38722",
   "metadata": {},
   "outputs": [],
   "source": [
    "s=\"pwskills\""
   ]
  },
  {
   "cell_type": "code",
   "execution_count": 10,
   "id": "d3190442-be16-457c-9c19-2e46acf2b6cd",
   "metadata": {},
   "outputs": [],
   "source": [
    "a=s+str(1)"
   ]
  },
  {
   "cell_type": "code",
   "execution_count": 9,
   "id": "fab4dde6-1b27-4ef7-8ee2-6d28cc39022e",
   "metadata": {},
   "outputs": [
    {
     "data": {
      "text/plain": [
       "15"
      ]
     },
     "execution_count": 9,
     "metadata": {},
     "output_type": "execute_result"
    }
   ],
   "source": [
    "7+8"
   ]
  },
  {
   "cell_type": "code",
   "execution_count": 12,
   "id": "b1966bda-e239-4b19-b0a9-24b657f6f862",
   "metadata": {},
   "outputs": [
    {
     "data": {
      "text/plain": [
       "str"
      ]
     },
     "execution_count": 12,
     "metadata": {},
     "output_type": "execute_result"
    }
   ],
   "source": [
    "type(a)"
   ]
  },
  {
   "cell_type": "code",
   "execution_count": 13,
   "id": "65dab47f-7ce0-4e7e-8885-a511291a45ab",
   "metadata": {},
   "outputs": [
    {
     "data": {
      "text/plain": [
       "'pwskills1'"
      ]
     },
     "execution_count": 13,
     "metadata": {},
     "output_type": "execute_result"
    }
   ],
   "source": [
    "a"
   ]
  },
  {
   "cell_type": "code",
   "execution_count": 15,
   "id": "9eb42c23-7eb5-4877-b441-691365b3bc57",
   "metadata": {},
   "outputs": [
    {
     "data": {
      "text/plain": [
       "8"
      ]
     },
     "execution_count": 15,
     "metadata": {},
     "output_type": "execute_result"
    }
   ],
   "source": [
    "a.find(\"1\")"
   ]
  },
  {
   "cell_type": "code",
   "execution_count": 16,
   "id": "85dd5917-f0b1-4616-bfcc-f8cc04c18450",
   "metadata": {},
   "outputs": [
    {
     "data": {
      "text/plain": [
       "'1'"
      ]
     },
     "execution_count": 16,
     "metadata": {},
     "output_type": "execute_result"
    }
   ],
   "source": [
    "a[8]"
   ]
  },
  {
   "cell_type": "code",
   "execution_count": 17,
   "id": "3c6da099-766b-45f9-9633-b4465d33f198",
   "metadata": {},
   "outputs": [
    {
     "data": {
      "text/plain": [
       "'PWSKILLS1'"
      ]
     },
     "execution_count": 17,
     "metadata": {},
     "output_type": "execute_result"
    }
   ],
   "source": [
    "a.upper()"
   ]
  },
  {
   "cell_type": "code",
   "execution_count": 18,
   "id": "05dbf6e9-c176-4415-b736-920630ac014e",
   "metadata": {},
   "outputs": [
    {
     "data": {
      "text/plain": [
       "'Pwskills1'"
      ]
     },
     "execution_count": 18,
     "metadata": {},
     "output_type": "execute_result"
    }
   ],
   "source": [
    "a.title()"
   ]
  },
  {
   "cell_type": "code",
   "execution_count": 19,
   "id": "8bdebba1-24b9-41e9-bb68-721c9ec0c8ea",
   "metadata": {},
   "outputs": [],
   "source": [
    "a=[2,45,56,67,\"Shashi\",4+4j]"
   ]
  },
  {
   "cell_type": "code",
   "execution_count": 20,
   "id": "11164cfe-904e-4b4f-9ede-bbb9c18bb7d4",
   "metadata": {},
   "outputs": [
    {
     "data": {
      "text/plain": [
       "[2, 45, 56, 67, 'Shashi', (4+4j)]"
      ]
     },
     "execution_count": 20,
     "metadata": {},
     "output_type": "execute_result"
    }
   ],
   "source": [
    "a"
   ]
  },
  {
   "cell_type": "code",
   "execution_count": 21,
   "id": "c1aab162-965e-42a1-a1cd-ffc2ef071c1c",
   "metadata": {},
   "outputs": [
    {
     "data": {
      "text/plain": [
       "list"
      ]
     },
     "execution_count": 21,
     "metadata": {},
     "output_type": "execute_result"
    }
   ],
   "source": [
    "type(a)"
   ]
  },
  {
   "cell_type": "code",
   "execution_count": 22,
   "id": "145cb35a-8fa8-4738-b255-5028297e9f98",
   "metadata": {},
   "outputs": [
    {
     "data": {
      "text/plain": [
       "'Shashi'"
      ]
     },
     "execution_count": 22,
     "metadata": {},
     "output_type": "execute_result"
    }
   ],
   "source": [
    "a[4]"
   ]
  },
  {
   "cell_type": "code",
   "execution_count": 24,
   "id": "b2de4e17-47ca-40e0-bcc0-0bb58906c7e3",
   "metadata": {},
   "outputs": [
    {
     "data": {
      "text/plain": [
       "['Shashi', (4+4j)]"
      ]
     },
     "execution_count": 24,
     "metadata": {},
     "output_type": "execute_result"
    }
   ],
   "source": [
    "a[4:]"
   ]
  },
  {
   "cell_type": "code",
   "execution_count": 25,
   "id": "b5fdd6b3-4081-412c-88cc-cde4a0a5733d",
   "metadata": {},
   "outputs": [
    {
     "data": {
      "text/plain": [
       "[(4+4j), 'Shashi', 67, 56, 45, 2]"
      ]
     },
     "execution_count": 25,
     "metadata": {},
     "output_type": "execute_result"
    }
   ],
   "source": [
    "a[::-1]"
   ]
  },
  {
   "cell_type": "code",
   "execution_count": 26,
   "id": "0c2998c1-aba4-4137-bc1d-d5d6af96bf07",
   "metadata": {},
   "outputs": [],
   "source": [
    "a=a+[3,5]"
   ]
  },
  {
   "cell_type": "code",
   "execution_count": 27,
   "id": "58538962-c5a3-4c94-bc40-dd2f81a96bf3",
   "metadata": {},
   "outputs": [
    {
     "data": {
      "text/plain": [
       "[2, 45, 56, 67, 'Shashi', (4+4j), 3, 5]"
      ]
     },
     "execution_count": 27,
     "metadata": {},
     "output_type": "execute_result"
    }
   ],
   "source": [
    "a"
   ]
  },
  {
   "cell_type": "code",
   "execution_count": 29,
   "id": "8cbdc558-44df-4997-8a75-c07126c60e0a",
   "metadata": {},
   "outputs": [
    {
     "data": {
      "text/plain": [
       "[2, 45, 56]"
      ]
     },
     "execution_count": 29,
     "metadata": {},
     "output_type": "execute_result"
    }
   ],
   "source": [
    "a[:3]"
   ]
  },
  {
   "cell_type": "code",
   "execution_count": 30,
   "id": "3ec151f3-4afa-4816-846a-f9f9161fa8e7",
   "metadata": {},
   "outputs": [
    {
     "data": {
      "text/plain": [
       "[5, (4+4j), 67, 45]"
      ]
     },
     "execution_count": 30,
     "metadata": {},
     "output_type": "execute_result"
    }
   ],
   "source": [
    "a[::-2]"
   ]
  },
  {
   "cell_type": "code",
   "execution_count": 33,
   "id": "874411de-cc80-433c-88f3-e2eed0b17536",
   "metadata": {},
   "outputs": [
    {
     "data": {
      "text/plain": [
       "[5, (4+4j), 67, 45]"
      ]
     },
     "execution_count": 33,
     "metadata": {},
     "output_type": "execute_result"
    }
   ],
   "source": [
    "a[7::-2]"
   ]
  },
  {
   "cell_type": "code",
   "execution_count": 34,
   "id": "7a363d85-dec4-4fc3-8131-44a3639b352a",
   "metadata": {},
   "outputs": [
    {
     "data": {
      "text/plain": [
       "[2, 45, 56, 67, 'Shashi', (4+4j), 3, 5]"
      ]
     },
     "execution_count": 34,
     "metadata": {},
     "output_type": "execute_result"
    }
   ],
   "source": [
    " a"
   ]
  },
  {
   "cell_type": "code",
   "execution_count": 35,
   "id": "f40799b9-2c6b-45b1-be4c-61f6b951da1a",
   "metadata": {},
   "outputs": [
    {
     "data": {
      "text/plain": [
       "'pwskills'"
      ]
     },
     "execution_count": 35,
     "metadata": {},
     "output_type": "execute_result"
    }
   ],
   "source": [
    "s"
   ]
  },
  {
   "cell_type": "code",
   "execution_count": 37,
   "id": "e4c5218e-f791-4b40-a534-f024f69ffc05",
   "metadata": {},
   "outputs": [
    {
     "data": {
      "text/plain": [
       "[2, 45, 56, 67, 'Shashi', (4+4j), 3, 5, 'p', 'w', 's', 'k', 'i', 'l', 'l', 's']"
      ]
     },
     "execution_count": 37,
     "metadata": {},
     "output_type": "execute_result"
    }
   ],
   "source": [
    "a+list(s)"
   ]
  },
  {
   "cell_type": "code",
   "execution_count": 41,
   "id": "39373f52-cf69-4eb3-a60c-bb7b5983c6c1",
   "metadata": {},
   "outputs": [],
   "source": [
    "a.append(s)"
   ]
  },
  {
   "cell_type": "code",
   "execution_count": 39,
   "id": "89682068-faf1-4a63-85d8-7ff96221bc6f",
   "metadata": {},
   "outputs": [
    {
     "data": {
      "text/plain": [
       "[2, 45, 56, 67, 'Shashi', (4+4j), 3, 5, 'pwskills']"
      ]
     },
     "execution_count": 39,
     "metadata": {},
     "output_type": "execute_result"
    }
   ],
   "source": [
    "a"
   ]
  },
  {
   "cell_type": "code",
   "execution_count": 42,
   "id": "647b6d22-ada0-41f7-9a2f-f57c14114cfe",
   "metadata": {},
   "outputs": [
    {
     "data": {
      "text/plain": [
       "'pwskills'"
      ]
     },
     "execution_count": 42,
     "metadata": {},
     "output_type": "execute_result"
    }
   ],
   "source": [
    "a[9]"
   ]
  },
  {
   "cell_type": "code",
   "execution_count": 43,
   "id": "59d23eec-2f0d-417a-a198-11aa8c208873",
   "metadata": {},
   "outputs": [
    {
     "data": {
      "text/plain": [
       "'skills'"
      ]
     },
     "execution_count": 43,
     "metadata": {},
     "output_type": "execute_result"
    }
   ],
   "source": [
    "a[9][2:]"
   ]
  },
  {
   "cell_type": "code",
   "execution_count": 44,
   "id": "a160dec2-6124-42cf-bec9-135c862f8944",
   "metadata": {},
   "outputs": [
    {
     "ename": "TypeError",
     "evalue": "can only concatenate list (not \"bool\") to list",
     "output_type": "error",
     "traceback": [
      "\u001b[0;31m---------------------------------------------------------------------------\u001b[0m",
      "\u001b[0;31mTypeError\u001b[0m                                 Traceback (most recent call last)",
      "Cell \u001b[0;32mIn[44], line 1\u001b[0m\n\u001b[0;32m----> 1\u001b[0m \u001b[43ma\u001b[49m\u001b[38;5;241;43m+\u001b[39;49m\u001b[38;5;28;43;01mTrue\u001b[39;49;00m\n",
      "\u001b[0;31mTypeError\u001b[0m: can only concatenate list (not \"bool\") to list"
     ]
    }
   ],
   "source": [
    "a+True"
   ]
  },
  {
   "cell_type": "code",
   "execution_count": 46,
   "id": "b2a2eeab-eeb4-4e3d-a16c-1b8c036ec05b",
   "metadata": {},
   "outputs": [
    {
     "data": {
      "text/plain": [
       "[2, 45, 56, 67, 'Shashi', (4+4j), 3, 5, 'pwskills', 'pwskills']"
      ]
     },
     "execution_count": 46,
     "metadata": {},
     "output_type": "execute_result"
    }
   ],
   "source": [
    "a"
   ]
  },
  {
   "cell_type": "code",
   "execution_count": 48,
   "id": "67698659-e12a-41a8-9ef1-447c465b2a6a",
   "metadata": {},
   "outputs": [],
   "source": [
    "r=a*2"
   ]
  },
  {
   "cell_type": "code",
   "execution_count": 49,
   "id": "466b03d5-3877-4933-9c42-f97301c90cb1",
   "metadata": {},
   "outputs": [
    {
     "data": {
      "text/plain": [
       "[2,\n",
       " 45,\n",
       " 56,\n",
       " 67,\n",
       " 'Shashi',\n",
       " (4+4j),\n",
       " 3,\n",
       " 5,\n",
       " 'pwskills',\n",
       " 'pwskills',\n",
       " 2,\n",
       " 45,\n",
       " 56,\n",
       " 67,\n",
       " 'Shashi',\n",
       " (4+4j),\n",
       " 3,\n",
       " 5,\n",
       " 'pwskills',\n",
       " 'pwskills']"
      ]
     },
     "execution_count": 49,
     "metadata": {},
     "output_type": "execute_result"
    }
   ],
   "source": [
    "r"
   ]
  },
  {
   "cell_type": "code",
   "execution_count": 50,
   "id": "f1cd1dc5-fa31-4bcb-95ec-a11368ea4e6c",
   "metadata": {},
   "outputs": [
    {
     "data": {
      "text/plain": [
       "10"
      ]
     },
     "execution_count": 50,
     "metadata": {},
     "output_type": "execute_result"
    }
   ],
   "source": [
    "len(a)"
   ]
  },
  {
   "cell_type": "code",
   "execution_count": 51,
   "id": "99dde4a6-4645-4c18-90ba-d61ace5ffe40",
   "metadata": {},
   "outputs": [
    {
     "data": {
      "text/plain": [
       "20"
      ]
     },
     "execution_count": 51,
     "metadata": {},
     "output_type": "execute_result"
    }
   ],
   "source": [
    "len(r)"
   ]
  },
  {
   "cell_type": "code",
   "execution_count": 53,
   "id": "975b6087-c7c8-47d6-810a-c17b93dbd473",
   "metadata": {},
   "outputs": [],
   "source": [
    "a.append(5)"
   ]
  },
  {
   "cell_type": "code",
   "execution_count": 54,
   "id": "8c03e6b3-dca0-4509-b8ed-0bdcc6234230",
   "metadata": {},
   "outputs": [
    {
     "data": {
      "text/plain": [
       "[2, 45, 56, 67, 'Shashi', (4+4j), 3, 5, 'pwskills', 'pwskills', 5]"
      ]
     },
     "execution_count": 54,
     "metadata": {},
     "output_type": "execute_result"
    }
   ],
   "source": [
    "a"
   ]
  },
  {
   "cell_type": "code",
   "execution_count": 56,
   "id": "071ba659-f70c-4444-ac93-e71ae9888b7e",
   "metadata": {},
   "outputs": [],
   "source": [
    "a.remove(\"pwskills\")"
   ]
  },
  {
   "cell_type": "code",
   "execution_count": 57,
   "id": "f503339e-e472-4be9-b94a-d90b18ffa045",
   "metadata": {},
   "outputs": [
    {
     "data": {
      "text/plain": [
       "[2, 45, 56, 67, 'Shashi', (4+4j), 3, 5, 'pwskills', 5]"
      ]
     },
     "execution_count": 57,
     "metadata": {},
     "output_type": "execute_result"
    }
   ],
   "source": [
    "a"
   ]
  },
  {
   "cell_type": "code",
   "execution_count": 58,
   "id": "109690fd-be6a-4704-a1b9-da45d464dfca",
   "metadata": {},
   "outputs": [
    {
     "data": {
      "text/plain": [
       "5"
      ]
     },
     "execution_count": 58,
     "metadata": {},
     "output_type": "execute_result"
    }
   ],
   "source": [
    "a.pop()"
   ]
  },
  {
   "cell_type": "code",
   "execution_count": 59,
   "id": "498d6597-894e-4e3a-936b-8dda84586b38",
   "metadata": {},
   "outputs": [
    {
     "data": {
      "text/plain": [
       "[2, 45, 56, 67, 'Shashi', (4+4j), 3, 5, 'pwskills']"
      ]
     },
     "execution_count": 59,
     "metadata": {},
     "output_type": "execute_result"
    }
   ],
   "source": [
    "a"
   ]
  },
  {
   "cell_type": "code",
   "execution_count": 60,
   "id": "1824c481-686a-46ba-b596-6208cf010184",
   "metadata": {},
   "outputs": [],
   "source": [
    "a.remove(5)"
   ]
  },
  {
   "cell_type": "code",
   "execution_count": 61,
   "id": "8d735b7e-ff8a-4aec-8091-4640cd5de4d0",
   "metadata": {},
   "outputs": [
    {
     "data": {
      "text/plain": [
       "[2, 45, 56, 67, 'Shashi', (4+4j), 3, 'pwskills']"
      ]
     },
     "execution_count": 61,
     "metadata": {},
     "output_type": "execute_result"
    }
   ],
   "source": [
    "a"
   ]
  },
  {
   "cell_type": "code",
   "execution_count": 62,
   "id": "49bde8b1-a9fb-4aaa-ab07-cda867ca3e36",
   "metadata": {},
   "outputs": [],
   "source": [
    "t=[1,3,56,78,90,45]"
   ]
  },
  {
   "cell_type": "code",
   "execution_count": 63,
   "id": "0f21d891-e3da-47ce-9194-44737b399761",
   "metadata": {},
   "outputs": [
    {
     "data": {
      "text/plain": [
       "[2, 45, 56, 67, 'Shashi', (4+4j), 3, 'pwskills', 1, 3, 56, 78, 90, 45]"
      ]
     },
     "execution_count": 63,
     "metadata": {},
     "output_type": "execute_result"
    }
   ],
   "source": [
    "a+t"
   ]
  },
  {
   "cell_type": "code",
   "execution_count": 64,
   "id": "86420b77-0b8a-449e-84e0-d267dca7a059",
   "metadata": {},
   "outputs": [],
   "source": [
    "a.append(t)"
   ]
  },
  {
   "cell_type": "code",
   "execution_count": 65,
   "id": "ad09ca40-6cca-4809-b61d-f02ecd1c8f4a",
   "metadata": {},
   "outputs": [
    {
     "data": {
      "text/plain": [
       "[2, 45, 56, 67, 'Shashi', (4+4j), 3, 'pwskills', [1, 3, 56, 78, 90, 45]]"
      ]
     },
     "execution_count": 65,
     "metadata": {},
     "output_type": "execute_result"
    }
   ],
   "source": [
    "a"
   ]
  },
  {
   "cell_type": "code",
   "execution_count": 66,
   "id": "6932c572-eb25-4c86-92df-6b0569c26651",
   "metadata": {},
   "outputs": [
    {
     "data": {
      "text/plain": [
       "[2, 45, 56, 67, 'Shashi', (4+4j), 3, 'pwskills', [1, 3, 56, 78, 90, 45]]"
      ]
     },
     "execution_count": 66,
     "metadata": {},
     "output_type": "execute_result"
    }
   ],
   "source": [
    "a"
   ]
  },
  {
   "cell_type": "code",
   "execution_count": 67,
   "id": "4b28ecd9-1ab8-4a04-9065-4df6e1badd82",
   "metadata": {},
   "outputs": [],
   "source": [
    "a.extend(t)"
   ]
  },
  {
   "cell_type": "code",
   "execution_count": 68,
   "id": "98683210-3fe0-4b86-85be-929e243cfcd7",
   "metadata": {},
   "outputs": [
    {
     "data": {
      "text/plain": [
       "[2,\n",
       " 45,\n",
       " 56,\n",
       " 67,\n",
       " 'Shashi',\n",
       " (4+4j),\n",
       " 3,\n",
       " 'pwskills',\n",
       " [1, 3, 56, 78, 90, 45],\n",
       " 1,\n",
       " 3,\n",
       " 56,\n",
       " 78,\n",
       " 90,\n",
       " 45]"
      ]
     },
     "execution_count": 68,
     "metadata": {},
     "output_type": "execute_result"
    }
   ],
   "source": [
    "a"
   ]
  },
  {
   "cell_type": "code",
   "execution_count": 69,
   "id": "65d509eb-a296-4b89-9839-d21fc389f02e",
   "metadata": {},
   "outputs": [],
   "source": [
    "a.remove(t)"
   ]
  },
  {
   "cell_type": "code",
   "execution_count": 70,
   "id": "a8dc1170-71a8-40eb-9cf0-72e74cad5da0",
   "metadata": {},
   "outputs": [
    {
     "data": {
      "text/plain": [
       "[2, 45, 56, 67, 'Shashi', (4+4j), 3, 'pwskills', 1, 3, 56, 78, 90, 45]"
      ]
     },
     "execution_count": 70,
     "metadata": {},
     "output_type": "execute_result"
    }
   ],
   "source": [
    "a"
   ]
  },
  {
   "cell_type": "code",
   "execution_count": 71,
   "id": "8c7f787c-84df-41d0-9596-e769608f9741",
   "metadata": {},
   "outputs": [
    {
     "data": {
      "text/plain": [
       "45"
      ]
     },
     "execution_count": 71,
     "metadata": {},
     "output_type": "execute_result"
    }
   ],
   "source": [
    "a.pop()"
   ]
  },
  {
   "cell_type": "code",
   "execution_count": 72,
   "id": "e41a8d10-2626-48b7-8410-a2134c37f937",
   "metadata": {},
   "outputs": [
    {
     "data": {
      "text/plain": [
       "90"
      ]
     },
     "execution_count": 72,
     "metadata": {},
     "output_type": "execute_result"
    }
   ],
   "source": [
    "a.pop()"
   ]
  },
  {
   "cell_type": "code",
   "execution_count": 73,
   "id": "961ac36e-fd60-4764-93ca-ef968ec211dc",
   "metadata": {},
   "outputs": [
    {
     "data": {
      "text/plain": [
       "78"
      ]
     },
     "execution_count": 73,
     "metadata": {},
     "output_type": "execute_result"
    }
   ],
   "source": [
    "a.pop()"
   ]
  },
  {
   "cell_type": "code",
   "execution_count": 74,
   "id": "0032a991-71f5-445e-b4e3-647ca102c9ea",
   "metadata": {},
   "outputs": [
    {
     "data": {
      "text/plain": [
       "[2, 45, 56, 67, 'Shashi', (4+4j), 3, 'pwskills', 1, 3, 56]"
      ]
     },
     "execution_count": 74,
     "metadata": {},
     "output_type": "execute_result"
    }
   ],
   "source": [
    "a"
   ]
  },
  {
   "cell_type": "code",
   "execution_count": 75,
   "id": "1f896476-ab05-46f3-82e4-ccd47b3c2c59",
   "metadata": {},
   "outputs": [
    {
     "data": {
      "text/plain": [
       "[2, 45, 56, 67, 'Shashi', (4+4j), 3, 'pwskills', 1, 3, 56]"
      ]
     },
     "execution_count": 75,
     "metadata": {},
     "output_type": "execute_result"
    }
   ],
   "source": [
    "a"
   ]
  },
  {
   "cell_type": "code",
   "execution_count": 76,
   "id": "9e4d9b64-3561-4620-9acb-00bc00842146",
   "metadata": {},
   "outputs": [
    {
     "data": {
      "text/plain": [
       "56"
      ]
     },
     "execution_count": 76,
     "metadata": {},
     "output_type": "execute_result"
    }
   ],
   "source": [
    "a.pop()"
   ]
  },
  {
   "cell_type": "code",
   "execution_count": 77,
   "id": "e5632294-7a6e-46ec-a5fb-e48225ae8b6c",
   "metadata": {},
   "outputs": [],
   "source": [
    "a.insert(5,\"kumar\")"
   ]
  },
  {
   "cell_type": "code",
   "execution_count": 78,
   "id": "e955bae2-1cf7-4a63-af7e-da92616dc01a",
   "metadata": {},
   "outputs": [
    {
     "data": {
      "text/plain": [
       "[2, 45, 56, 67, 'Shashi', 'kumar', (4+4j), 3, 'pwskills', 1, 3]"
      ]
     },
     "execution_count": 78,
     "metadata": {},
     "output_type": "execute_result"
    }
   ],
   "source": [
    "a"
   ]
  },
  {
   "cell_type": "code",
   "execution_count": 79,
   "id": "23c3f54f-ba83-4b47-a7a7-d47c11cd148e",
   "metadata": {},
   "outputs": [
    {
     "ename": "TypeError",
     "evalue": "'<' not supported between instances of 'str' and 'int'",
     "output_type": "error",
     "traceback": [
      "\u001b[0;31m---------------------------------------------------------------------------\u001b[0m",
      "\u001b[0;31mTypeError\u001b[0m                                 Traceback (most recent call last)",
      "Cell \u001b[0;32mIn[79], line 1\u001b[0m\n\u001b[0;32m----> 1\u001b[0m \u001b[43ma\u001b[49m\u001b[38;5;241;43m.\u001b[39;49m\u001b[43msort\u001b[49m\u001b[43m(\u001b[49m\u001b[43m)\u001b[49m\n",
      "\u001b[0;31mTypeError\u001b[0m: '<' not supported between instances of 'str' and 'int'"
     ]
    }
   ],
   "source": [
    "a.sort()"
   ]
  },
  {
   "cell_type": "code",
   "execution_count": 80,
   "id": "02ef2176-a11b-4803-89bd-64d09bc1696e",
   "metadata": {},
   "outputs": [
    {
     "data": {
      "text/plain": [
       "[2, 45, 56, 67, 'Shashi', 'kumar', (4+4j), 3, 'pwskills', 1, 3]"
      ]
     },
     "execution_count": 80,
     "metadata": {},
     "output_type": "execute_result"
    }
   ],
   "source": [
    " a"
   ]
  },
  {
   "cell_type": "code",
   "execution_count": 81,
   "id": "561503d6-a7f0-4283-a074-018b8580ae82",
   "metadata": {},
   "outputs": [
    {
     "data": {
      "text/plain": [
       "'kumar'"
      ]
     },
     "execution_count": 81,
     "metadata": {},
     "output_type": "execute_result"
    }
   ],
   "source": [
    "a.pop(5)"
   ]
  },
  {
   "cell_type": "code",
   "execution_count": 82,
   "id": "02d233a9-5661-456e-91f3-a999c4fb2752",
   "metadata": {},
   "outputs": [
    {
     "data": {
      "text/plain": [
       "[2, 45, 56, 67, 'Shashi', (4+4j), 3, 'pwskills', 1, 3]"
      ]
     },
     "execution_count": 82,
     "metadata": {},
     "output_type": "execute_result"
    }
   ],
   "source": [
    "a"
   ]
  },
  {
   "cell_type": "code",
   "execution_count": 83,
   "id": "4220ceb0-e4d5-4d4e-8104-b992fb3fbcc3",
   "metadata": {},
   "outputs": [
    {
     "data": {
      "text/plain": [
       "'pwskills'"
      ]
     },
     "execution_count": 83,
     "metadata": {},
     "output_type": "execute_result"
    }
   ],
   "source": [
    "a.pop(7)"
   ]
  },
  {
   "cell_type": "code",
   "execution_count": 84,
   "id": "bde12b18-d955-4f64-bf3d-1e31c3756271",
   "metadata": {},
   "outputs": [
    {
     "data": {
      "text/plain": [
       "[2, 45, 56, 67, 'Shashi', (4+4j), 3, 1, 3]"
      ]
     },
     "execution_count": 84,
     "metadata": {},
     "output_type": "execute_result"
    }
   ],
   "source": [
    "a"
   ]
  },
  {
   "cell_type": "code",
   "execution_count": 85,
   "id": "3e3490d6-1db5-403f-af36-2ad519430faa",
   "metadata": {},
   "outputs": [
    {
     "data": {
      "text/plain": [
       "3"
      ]
     },
     "execution_count": 85,
     "metadata": {},
     "output_type": "execute_result"
    }
   ],
   "source": [
    "a.pop()"
   ]
  },
  {
   "cell_type": "code",
   "execution_count": 87,
   "id": "1e40ecb3-5cc4-4c8e-9076-5f132c8fe15b",
   "metadata": {},
   "outputs": [
    {
     "data": {
      "text/plain": [
       "1"
      ]
     },
     "execution_count": 87,
     "metadata": {},
     "output_type": "execute_result"
    }
   ],
   "source": [
    "a.pop()"
   ]
  },
  {
   "cell_type": "code",
   "execution_count": 88,
   "id": "ab292d47-8f4c-4aee-838b-beec04e608c9",
   "metadata": {},
   "outputs": [
    {
     "data": {
      "text/plain": [
       "[2, 45, 56, 67, 'Shashi', (4+4j), 3]"
      ]
     },
     "execution_count": 88,
     "metadata": {},
     "output_type": "execute_result"
    }
   ],
   "source": [
    "a"
   ]
  },
  {
   "cell_type": "code",
   "execution_count": 89,
   "id": "423e742b-82b9-4983-875e-b84eb41f60e9",
   "metadata": {},
   "outputs": [
    {
     "data": {
      "text/plain": [
       "[1, 3, 56, 78, 90, 45]"
      ]
     },
     "execution_count": 89,
     "metadata": {},
     "output_type": "execute_result"
    }
   ],
   "source": [
    "t"
   ]
  },
  {
   "cell_type": "code",
   "execution_count": 90,
   "id": "e21432e8-d127-4ae2-887e-e98605e1acfd",
   "metadata": {},
   "outputs": [
    {
     "data": {
      "text/plain": [
       "[2,\n",
       " 45,\n",
       " 56,\n",
       " 67,\n",
       " 'Shashi',\n",
       " (4+4j),\n",
       " 3,\n",
       " 5,\n",
       " 'pwskills',\n",
       " 'pwskills',\n",
       " 2,\n",
       " 45,\n",
       " 56,\n",
       " 67,\n",
       " 'Shashi',\n",
       " (4+4j),\n",
       " 3,\n",
       " 5,\n",
       " 'pwskills',\n",
       " 'pwskills']"
      ]
     },
     "execution_count": 90,
     "metadata": {},
     "output_type": "execute_result"
    }
   ],
   "source": [
    "r"
   ]
  },
  {
   "cell_type": "code",
   "execution_count": 91,
   "id": "cbe678b3-4c98-4cee-be05-7ec0427d7bd8",
   "metadata": {},
   "outputs": [
    {
     "data": {
      "text/plain": [
       "[2, 45, 56, 67, 'Shashi', (4+4j), 3]"
      ]
     },
     "execution_count": 91,
     "metadata": {},
     "output_type": "execute_result"
    }
   ],
   "source": [
    "a"
   ]
  },
  {
   "cell_type": "code",
   "execution_count": 92,
   "id": "f90eb8d9-d8b1-4e75-92da-ff288e9d690c",
   "metadata": {},
   "outputs": [
    {
     "data": {
      "text/plain": [
       "'pwskills'"
      ]
     },
     "execution_count": 92,
     "metadata": {},
     "output_type": "execute_result"
    }
   ],
   "source": [
    "s"
   ]
  },
  {
   "cell_type": "code",
   "execution_count": 93,
   "id": "6cb7186e-d717-465e-a270-80115783f051",
   "metadata": {},
   "outputs": [
    {
     "data": {
      "text/plain": [
       "[1, 3, 56, 78, 90, 45]"
      ]
     },
     "execution_count": 93,
     "metadata": {},
     "output_type": "execute_result"
    }
   ],
   "source": [
    "t"
   ]
  },
  {
   "cell_type": "code",
   "execution_count": 94,
   "id": "d6e27073-85dd-4ac9-8890-4eb6e58e0c0f",
   "metadata": {},
   "outputs": [
    {
     "data": {
      "text/plain": [
       "3"
      ]
     },
     "execution_count": 94,
     "metadata": {},
     "output_type": "execute_result"
    }
   ],
   "source": [
    "a.pop()"
   ]
  },
  {
   "cell_type": "code",
   "execution_count": 95,
   "id": "1abb3bc2-3265-47c7-b6a8-569c01b049da",
   "metadata": {},
   "outputs": [],
   "source": [
    "a.append(t)"
   ]
  },
  {
   "cell_type": "code",
   "execution_count": 96,
   "id": "b79c0473-1c7d-496b-872f-e1c125521122",
   "metadata": {},
   "outputs": [
    {
     "data": {
      "text/plain": [
       "[2, 45, 56, 67, 'Shashi', (4+4j), [1, 3, 56, 78, 90, 45]]"
      ]
     },
     "execution_count": 96,
     "metadata": {},
     "output_type": "execute_result"
    }
   ],
   "source": [
    "a"
   ]
  },
  {
   "cell_type": "code",
   "execution_count": 97,
   "id": "9bf6640a-7663-40af-99f3-4d221a654ca9",
   "metadata": {},
   "outputs": [],
   "source": [
    "x=a.pop()"
   ]
  },
  {
   "cell_type": "code",
   "execution_count": 98,
   "id": "1c1f3642-c48b-4ebb-a726-9d521836a1e2",
   "metadata": {},
   "outputs": [
    {
     "data": {
      "text/plain": [
       "[1, 3, 56, 78, 90, 45]"
      ]
     },
     "execution_count": 98,
     "metadata": {},
     "output_type": "execute_result"
    }
   ],
   "source": [
    "x"
   ]
  },
  {
   "cell_type": "code",
   "execution_count": 99,
   "id": "5e035c8d-3397-46e1-86db-34eac23b3ba9",
   "metadata": {},
   "outputs": [],
   "source": [
    "x.remove(3)"
   ]
  },
  {
   "cell_type": "code",
   "execution_count": 100,
   "id": "e98bb944-017e-460d-93dd-0c20718cbba5",
   "metadata": {},
   "outputs": [
    {
     "data": {
      "text/plain": [
       "[1, 56, 78, 90, 45]"
      ]
     },
     "execution_count": 100,
     "metadata": {},
     "output_type": "execute_result"
    }
   ],
   "source": [
    "x"
   ]
  },
  {
   "cell_type": "code",
   "execution_count": 101,
   "id": "8a0e5972-8844-4364-8851-34f482755a08",
   "metadata": {},
   "outputs": [],
   "source": [
    "a.append(x)"
   ]
  },
  {
   "cell_type": "code",
   "execution_count": 2,
   "id": "bb6e7aa2-24aa-4ded-bf6c-31ac9fbde96b",
   "metadata": {},
   "outputs": [
    {
     "ename": "NameError",
     "evalue": "name 'a' is not defined",
     "output_type": "error",
     "traceback": [
      "\u001b[0;31m---------------------------------------------------------------------------\u001b[0m",
      "\u001b[0;31mNameError\u001b[0m                                 Traceback (most recent call last)",
      "Cell \u001b[0;32mIn[2], line 1\u001b[0m\n\u001b[0;32m----> 1\u001b[0m \u001b[43ma\u001b[49m\n",
      "\u001b[0;31mNameError\u001b[0m: name 'a' is not defined"
     ]
    }
   ],
   "source": [
    "a"
   ]
  },
  {
   "cell_type": "code",
   "execution_count": null,
   "id": "62b08ba4-7879-40a5-98af-d30279b911d1",
   "metadata": {},
   "outputs": [],
   "source": [
    "a[6]]]]"
   ]
  },
  {
   "cell_type": "code",
   "execution_count": 1,
   "id": "00303444-b88a-440c-86bf-b291a341836d",
   "metadata": {},
   "outputs": [
    {
     "ename": "NameError",
     "evalue": "name 'a' is not defined",
     "output_type": "error",
     "traceback": [
      "\u001b[0;31m---------------------------------------------------------------------------\u001b[0m",
      "\u001b[0;31mNameError\u001b[0m                                 Traceback (most recent call last)",
      "Cell \u001b[0;32mIn[1], line 1\u001b[0m\n\u001b[0;32m----> 1\u001b[0m \u001b[43ma\u001b[49m\n",
      "\u001b[0;31mNameError\u001b[0m: name 'a' is not defined"
     ]
    }
   ],
   "source": [
    "a"
   ]
  },
  {
   "cell_type": "code",
   "execution_count": 3,
   "id": "101de0a7-8452-48d8-aff4-ee300c9b4f4e",
   "metadata": {},
   "outputs": [],
   "source": [
    "a=[12,56,89.90,70]"
   ]
  },
  {
   "cell_type": "code",
   "execution_count": 4,
   "id": "e9f8bf28-edc6-44fc-9d15-d6872ca77aad",
   "metadata": {},
   "outputs": [
    {
     "data": {
      "text/plain": [
       "[70, 89.9, 56, 12]"
      ]
     },
     "execution_count": 4,
     "metadata": {},
     "output_type": "execute_result"
    }
   ],
   "source": [
    "a[::-1]"
   ]
  },
  {
   "cell_type": "code",
   "execution_count": 5,
   "id": "230e8fa6-f62d-46d8-8175-d0c859cef673",
   "metadata": {},
   "outputs": [],
   "source": [
    "a.reverse()"
   ]
  },
  {
   "cell_type": "code",
   "execution_count": 6,
   "id": "0601766d-d860-4bbe-8055-67e4bdcbdff8",
   "metadata": {},
   "outputs": [
    {
     "data": {
      "text/plain": [
       "[70, 89.9, 56, 12]"
      ]
     },
     "execution_count": 6,
     "metadata": {},
     "output_type": "execute_result"
    }
   ],
   "source": [
    "a"
   ]
  },
  {
   "cell_type": "code",
   "execution_count": 7,
   "id": "688e83ab-4c48-49de-981a-cf1c16356ee1",
   "metadata": {},
   "outputs": [
    {
     "data": {
      "text/plain": [
       "[70, 89.9, 56, 12]"
      ]
     },
     "execution_count": 7,
     "metadata": {},
     "output_type": "execute_result"
    }
   ],
   "source": [
    "a"
   ]
  },
  {
   "cell_type": "code",
   "execution_count": 8,
   "id": "6b3f4114-41bb-40ba-bdb5-e6d57674bcab",
   "metadata": {},
   "outputs": [],
   "source": [
    "a.reverse()"
   ]
  },
  {
   "cell_type": "code",
   "execution_count": 9,
   "id": "af366f32-8d43-47e8-82c7-05ac2670e063",
   "metadata": {},
   "outputs": [
    {
     "data": {
      "text/plain": [
       "[12, 56, 89.9, 70]"
      ]
     },
     "execution_count": 9,
     "metadata": {},
     "output_type": "execute_result"
    }
   ],
   "source": [
    "a"
   ]
  },
  {
   "cell_type": "code",
   "execution_count": 10,
   "id": "2ab418a9-fe7e-48ce-afe9-2f0254d1085b",
   "metadata": {},
   "outputs": [
    {
     "data": {
      "text/plain": [
       "[12, 56, 89.9, 70]"
      ]
     },
     "execution_count": 10,
     "metadata": {},
     "output_type": "execute_result"
    }
   ],
   "source": [
    "a"
   ]
  },
  {
   "cell_type": "code",
   "execution_count": 11,
   "id": "aff46439-3d81-471e-afad-bcb1ba53b878",
   "metadata": {},
   "outputs": [],
   "source": [
    "a.sort()"
   ]
  },
  {
   "cell_type": "code",
   "execution_count": 12,
   "id": "d288d9c6-e5df-45e6-adea-99c92a733a37",
   "metadata": {},
   "outputs": [
    {
     "data": {
      "text/plain": [
       "[12, 56, 70, 89.9]"
      ]
     },
     "execution_count": 12,
     "metadata": {},
     "output_type": "execute_result"
    }
   ],
   "source": [
    "a"
   ]
  },
  {
   "cell_type": "code",
   "execution_count": 13,
   "id": "85509081-f1d1-4be1-a6c8-91b611d07908",
   "metadata": {},
   "outputs": [
    {
     "data": {
      "text/plain": [
       "[12, 56, 70, 89.9]"
      ]
     },
     "execution_count": 13,
     "metadata": {},
     "output_type": "execute_result"
    }
   ],
   "source": [
    "a"
   ]
  },
  {
   "cell_type": "code",
   "execution_count": 14,
   "id": "f81d2531-3147-4346-8f8e-bb6594ae4aae",
   "metadata": {},
   "outputs": [],
   "source": [
    "a.sort(reverse=False)"
   ]
  },
  {
   "cell_type": "code",
   "execution_count": 15,
   "id": "bb7342d0-ce69-455f-a763-929d2c005fbd",
   "metadata": {},
   "outputs": [
    {
     "data": {
      "text/plain": [
       "[12, 56, 70, 89.9]"
      ]
     },
     "execution_count": 15,
     "metadata": {},
     "output_type": "execute_result"
    }
   ],
   "source": [
    "a"
   ]
  },
  {
   "cell_type": "code",
   "execution_count": 16,
   "id": "2201dc63-aac0-42b7-8b46-dfa0068c0ad5",
   "metadata": {},
   "outputs": [],
   "source": [
    "a.sort(reverse=True)"
   ]
  },
  {
   "cell_type": "code",
   "execution_count": 17,
   "id": "c4d3e812-9340-43ca-ba65-9f7bc53317e3",
   "metadata": {},
   "outputs": [
    {
     "data": {
      "text/plain": [
       "[89.9, 70, 56, 12]"
      ]
     },
     "execution_count": 17,
     "metadata": {},
     "output_type": "execute_result"
    }
   ],
   "source": [
    "a"
   ]
  },
  {
   "cell_type": "code",
   "execution_count": 18,
   "id": "92aaa23d-0139-4510-80e2-2dfe7accc5ee",
   "metadata": {},
   "outputs": [],
   "source": [
    "a1=['s','as','loo']"
   ]
  },
  {
   "cell_type": "code",
   "execution_count": 19,
   "id": "24c2a2db-5dc8-4a05-9062-bd52b40a9bd3",
   "metadata": {},
   "outputs": [],
   "source": [
    "a1.sort()"
   ]
  },
  {
   "cell_type": "code",
   "execution_count": 20,
   "id": "91e46ff6-17d1-47a1-96ed-0f496887668b",
   "metadata": {},
   "outputs": [
    {
     "data": {
      "text/plain": [
       "['as', 'loo', 's']"
      ]
     },
     "execution_count": 20,
     "metadata": {},
     "output_type": "execute_result"
    }
   ],
   "source": [
    "a1"
   ]
  },
  {
   "cell_type": "code",
   "execution_count": 21,
   "id": "98b79d20-12c8-4667-b35a-fced87dc3624",
   "metadata": {},
   "outputs": [],
   "source": [
    "a3=\"PWskills\""
   ]
  },
  {
   "cell_type": "code",
   "execution_count": 22,
   "id": "f42743b9-dabd-415d-a50f-823a9e5329f8",
   "metadata": {},
   "outputs": [
    {
     "data": {
      "text/plain": [
       "'PWSKILLS'"
      ]
     },
     "execution_count": 22,
     "metadata": {},
     "output_type": "execute_result"
    }
   ],
   "source": [
    "a3.upper()"
   ]
  },
  {
   "cell_type": "code",
   "execution_count": 23,
   "id": "29ec2793-d590-49fb-93c6-5de3380184e0",
   "metadata": {},
   "outputs": [
    {
     "data": {
      "text/plain": [
       "'PWskills'"
      ]
     },
     "execution_count": 23,
     "metadata": {},
     "output_type": "execute_result"
    }
   ],
   "source": [
    "a3"
   ]
  },
  {
   "cell_type": "code",
   "execution_count": 24,
   "id": "5829d69f-6b7d-4c91-966c-108f64af431f",
   "metadata": {},
   "outputs": [],
   "source": [
    "a3=a3.title()"
   ]
  },
  {
   "cell_type": "code",
   "execution_count": 25,
   "id": "bf4a2066-a3dc-442e-be88-3f065ddc78e5",
   "metadata": {},
   "outputs": [
    {
     "data": {
      "text/plain": [
       "'Pwskills'"
      ]
     },
     "execution_count": 25,
     "metadata": {},
     "output_type": "execute_result"
    }
   ],
   "source": [
    "a3"
   ]
  },
  {
   "cell_type": "code",
   "execution_count": 28,
   "id": "e3ee2f92-c863-4082-b14d-07a1ae9b36f3",
   "metadata": {},
   "outputs": [
    {
     "ename": "TypeError",
     "evalue": "'str' object does not support item assignment",
     "output_type": "error",
     "traceback": [
      "\u001b[0;31m---------------------------------------------------------------------------\u001b[0m",
      "\u001b[0;31mTypeError\u001b[0m                                 Traceback (most recent call last)",
      "Cell \u001b[0;32mIn[28], line 1\u001b[0m\n\u001b[0;32m----> 1\u001b[0m \u001b[43ma3\u001b[49m\u001b[43m[\u001b[49m\u001b[38;5;241;43m0\u001b[39;49m\u001b[43m]\u001b[49m\u001b[38;5;241m=\u001b[39m\u001b[38;5;124m'\u001b[39m\u001b[38;5;124mw\u001b[39m\u001b[38;5;124m'\u001b[39m\n",
      "\u001b[0;31mTypeError\u001b[0m: 'str' object does not support item assignment"
     ]
    }
   ],
   "source": [
    "a3[0]='w'"
   ]
  },
  {
   "cell_type": "code",
   "execution_count": 29,
   "id": "7f936f72-3ca3-4469-84ca-d17b7296bc7e",
   "metadata": {},
   "outputs": [
    {
     "data": {
      "text/plain": [
       "[89.9, 70, 56, 12]"
      ]
     },
     "execution_count": 29,
     "metadata": {},
     "output_type": "execute_result"
    }
   ],
   "source": [
    "a"
   ]
  },
  {
   "cell_type": "code",
   "execution_count": 30,
   "id": "74b4b8cf-dd7d-4d3e-8471-ad40ee61c84b",
   "metadata": {},
   "outputs": [],
   "source": [
    "a[1]=40"
   ]
  },
  {
   "cell_type": "code",
   "execution_count": 31,
   "id": "58b05ffe-5a54-4ea9-9619-4e51eb52b859",
   "metadata": {},
   "outputs": [
    {
     "data": {
      "text/plain": [
       "[89.9, 40, 56, 12]"
      ]
     },
     "execution_count": 31,
     "metadata": {},
     "output_type": "execute_result"
    }
   ],
   "source": [
    "a"
   ]
  },
  {
   "cell_type": "code",
   "execution_count": 32,
   "id": "00f84492-39dd-4a2a-a276-9d8650e6afb8",
   "metadata": {},
   "outputs": [
    {
     "data": {
      "text/plain": [
       "'Pwskills'"
      ]
     },
     "execution_count": 32,
     "metadata": {},
     "output_type": "execute_result"
    }
   ],
   "source": [
    "a3"
   ]
  },
  {
   "cell_type": "code",
   "execution_count": 34,
   "id": "945a758b-3177-4b8e-9848-7c4cb333a4e1",
   "metadata": {},
   "outputs": [
    {
     "data": {
      "text/plain": [
       "'owskills'"
      ]
     },
     "execution_count": 34,
     "metadata": {},
     "output_type": "execute_result"
    }
   ],
   "source": [
    "a3.replace(\"P\",\"o\")"
   ]
  },
  {
   "cell_type": "code",
   "execution_count": 35,
   "id": "43c09412-2a92-4bec-82c7-fc8021b23a6a",
   "metadata": {},
   "outputs": [
    {
     "data": {
      "text/plain": [
       "'Pwskills'"
      ]
     },
     "execution_count": 35,
     "metadata": {},
     "output_type": "execute_result"
    }
   ],
   "source": [
    "a3"
   ]
  },
  {
   "cell_type": "code",
   "execution_count": 36,
   "id": "32258095-7df8-4371-8148-aa3d7618c432",
   "metadata": {},
   "outputs": [],
   "source": [
    "t=(2,3,6,\"shashi\",3+6j,[2,3])"
   ]
  },
  {
   "cell_type": "code",
   "execution_count": 37,
   "id": "439194b3-173c-4781-8b5f-da017fa6257c",
   "metadata": {},
   "outputs": [
    {
     "data": {
      "text/plain": [
       "(2, 3, 6, 'shashi', (3+6j), [2, 3])"
      ]
     },
     "execution_count": 37,
     "metadata": {},
     "output_type": "execute_result"
    }
   ],
   "source": [
    "t"
   ]
  },
  {
   "cell_type": "code",
   "execution_count": 38,
   "id": "9230af7d-6f07-4d6e-b54b-47d6730280e2",
   "metadata": {},
   "outputs": [
    {
     "data": {
      "text/plain": [
       "tuple"
      ]
     },
     "execution_count": 38,
     "metadata": {},
     "output_type": "execute_result"
    }
   ],
   "source": [
    "type(t)"
   ]
  },
  {
   "cell_type": "code",
   "execution_count": 39,
   "id": "314ddc08-89d7-468c-b718-fc99dbb47b58",
   "metadata": {},
   "outputs": [
    {
     "data": {
      "text/plain": [
       "6"
      ]
     },
     "execution_count": 39,
     "metadata": {},
     "output_type": "execute_result"
    }
   ],
   "source": [
    "len(t)"
   ]
  },
  {
   "cell_type": "code",
   "execution_count": 40,
   "id": "c7aa5a2e-3877-461c-82e8-131cd77f3671",
   "metadata": {},
   "outputs": [
    {
     "data": {
      "text/plain": [
       "[2, 3]"
      ]
     },
     "execution_count": 40,
     "metadata": {},
     "output_type": "execute_result"
    }
   ],
   "source": [
    "t[-1]"
   ]
  },
  {
   "cell_type": "code",
   "execution_count": 41,
   "id": "882c06e3-2bd0-454b-ba90-f115109af64a",
   "metadata": {},
   "outputs": [
    {
     "data": {
      "text/plain": [
       "([2, 3], (3+6j), 'shashi', 6, 3, 2)"
      ]
     },
     "execution_count": 41,
     "metadata": {},
     "output_type": "execute_result"
    }
   ],
   "source": [
    "t[::-1]"
   ]
  },
  {
   "cell_type": "code",
   "execution_count": 42,
   "id": "f2af657c-baa7-46cd-b1c0-b3025e5c00fd",
   "metadata": {},
   "outputs": [
    {
     "data": {
      "text/plain": [
       "'Pwskills'"
      ]
     },
     "execution_count": 42,
     "metadata": {},
     "output_type": "execute_result"
    }
   ],
   "source": [
    " a3"
   ]
  },
  {
   "cell_type": "code",
   "execution_count": 43,
   "id": "5d27a2ad-3fc1-4c3f-a3e6-974f517b70cd",
   "metadata": {},
   "outputs": [
    {
     "ename": "NameError",
     "evalue": "name 'a2' is not defined",
     "output_type": "error",
     "traceback": [
      "\u001b[0;31m---------------------------------------------------------------------------\u001b[0m",
      "\u001b[0;31mNameError\u001b[0m                                 Traceback (most recent call last)",
      "Cell \u001b[0;32mIn[43], line 1\u001b[0m\n\u001b[0;32m----> 1\u001b[0m \u001b[43ma2\u001b[49m\n",
      "\u001b[0;31mNameError\u001b[0m: name 'a2' is not defined"
     ]
    }
   ],
   "source": [
    "a2"
   ]
  },
  {
   "cell_type": "code",
   "execution_count": 44,
   "id": "f3221adb-68c6-4c8b-8373-659a15c6a4bb",
   "metadata": {},
   "outputs": [
    {
     "ename": "NameError",
     "evalue": "name 'a4' is not defined",
     "output_type": "error",
     "traceback": [
      "\u001b[0;31m---------------------------------------------------------------------------\u001b[0m",
      "\u001b[0;31mNameError\u001b[0m                                 Traceback (most recent call last)",
      "Cell \u001b[0;32mIn[44], line 1\u001b[0m\n\u001b[0;32m----> 1\u001b[0m \u001b[43ma4\u001b[49m\n",
      "\u001b[0;31mNameError\u001b[0m: name 'a4' is not defined"
     ]
    }
   ],
   "source": [
    "a4"
   ]
  },
  {
   "cell_type": "code",
   "execution_count": 45,
   "id": "17984e6d-411a-48f4-b8bb-7d1ce16996db",
   "metadata": {},
   "outputs": [
    {
     "data": {
      "text/plain": [
       "[89.9, 40, 56, 12]"
      ]
     },
     "execution_count": 45,
     "metadata": {},
     "output_type": "execute_result"
    }
   ],
   "source": [
    "a"
   ]
  },
  {
   "cell_type": "code",
   "execution_count": 46,
   "id": "24c6369e-8c92-48bd-83ba-e8021bde25a7",
   "metadata": {},
   "outputs": [
    {
     "data": {
      "text/plain": [
       "(2, 3, 6, 'shashi', (3+6j), [2, 3])"
      ]
     },
     "execution_count": 46,
     "metadata": {},
     "output_type": "execute_result"
    }
   ],
   "source": [
    "t"
   ]
  },
  {
   "cell_type": "code",
   "execution_count": 47,
   "id": "901ca723-51d1-4fb1-8564-0fa4a423350d",
   "metadata": {},
   "outputs": [
    {
     "ename": "TypeError",
     "evalue": "'tuple' object does not support item assignment",
     "output_type": "error",
     "traceback": [
      "\u001b[0;31m---------------------------------------------------------------------------\u001b[0m",
      "\u001b[0;31mTypeError\u001b[0m                                 Traceback (most recent call last)",
      "Cell \u001b[0;32mIn[47], line 1\u001b[0m\n\u001b[0;32m----> 1\u001b[0m \u001b[43mt\u001b[49m\u001b[43m[\u001b[49m\u001b[38;5;241;43m0\u001b[39;49m\u001b[43m]\u001b[49m\u001b[38;5;241m=\u001b[39m\u001b[38;5;124m\"\u001b[39m\u001b[38;5;124ms\u001b[39m\u001b[38;5;124m\"\u001b[39m\n",
      "\u001b[0;31mTypeError\u001b[0m: 'tuple' object does not support item assignment"
     ]
    }
   ],
   "source": [
    "t[0]=\"s\""
   ]
  },
  {
   "cell_type": "code",
   "execution_count": 48,
   "id": "9c0fde90-c5aa-4cd1-804f-cdf24815923e",
   "metadata": {},
   "outputs": [
    {
     "data": {
      "text/plain": [
       "1"
      ]
     },
     "execution_count": 48,
     "metadata": {},
     "output_type": "execute_result"
    }
   ],
   "source": [
    " t.count(3)"
   ]
  },
  {
   "cell_type": "code",
   "execution_count": 49,
   "id": "c87925d1-f393-4e91-a213-1eddadd002fd",
   "metadata": {},
   "outputs": [
    {
     "data": {
      "text/plain": [
       "1"
      ]
     },
     "execution_count": 49,
     "metadata": {},
     "output_type": "execute_result"
    }
   ],
   "source": [
    "t.index(3)"
   ]
  },
  {
   "cell_type": "code",
   "execution_count": 50,
   "id": "4769dd66-f1db-4868-8496-1fef52b97846",
   "metadata": {},
   "outputs": [
    {
     "data": {
      "text/plain": [
       "(2, 3, 6, 'shashi', (3+6j), [2, 3])"
      ]
     },
     "execution_count": 50,
     "metadata": {},
     "output_type": "execute_result"
    }
   ],
   "source": [
    "t"
   ]
  },
  {
   "cell_type": "code",
   "execution_count": 51,
   "id": "a6c2f812-0c5b-448f-8d8c-fab2af6b15a6",
   "metadata": {},
   "outputs": [],
   "source": [
    "s={1,2}"
   ]
  },
  {
   "cell_type": "code",
   "execution_count": 52,
   "id": "693a3897-7298-49b7-a287-c15dbd1b52c8",
   "metadata": {},
   "outputs": [
    {
     "data": {
      "text/plain": [
       "{1, 2}"
      ]
     },
     "execution_count": 52,
     "metadata": {},
     "output_type": "execute_result"
    }
   ],
   "source": [
    "s"
   ]
  },
  {
   "cell_type": "code",
   "execution_count": 53,
   "id": "03c35fd1-79a8-4b62-96a2-e9db7dc42d58",
   "metadata": {},
   "outputs": [
    {
     "data": {
      "text/plain": [
       "set"
      ]
     },
     "execution_count": 53,
     "metadata": {},
     "output_type": "execute_result"
    }
   ],
   "source": [
    "type(s)"
   ]
  },
  {
   "cell_type": "code",
   "execution_count": 54,
   "id": "1e3dd695-9a74-4a70-9f33-1a0f2bf0ac69",
   "metadata": {},
   "outputs": [],
   "source": [
    "s1={}"
   ]
  },
  {
   "cell_type": "code",
   "execution_count": 55,
   "id": "490edcfd-4cae-4682-ad12-f2037e33d5cc",
   "metadata": {},
   "outputs": [
    {
     "data": {
      "text/plain": [
       "dict"
      ]
     },
     "execution_count": 55,
     "metadata": {},
     "output_type": "execute_result"
    }
   ],
   "source": [
    "type(s1)"
   ]
  },
  {
   "cell_type": "code",
   "execution_count": 59,
   "id": "3bba0bda-89a1-4aac-b94e-741f6d923b59",
   "metadata": {},
   "outputs": [],
   "source": [
    "s1={(2,3,4),5,\"Shashi\"}"
   ]
  },
  {
   "cell_type": "code",
   "execution_count": 57,
   "id": "ed26e8c5-cb09-4352-8838-def56ad647c8",
   "metadata": {},
   "outputs": [
    {
     "data": {
      "text/plain": [
       "{(2, 3, 4), 5, 'Shashi'}"
      ]
     },
     "execution_count": 57,
     "metadata": {},
     "output_type": "execute_result"
    }
   ],
   "source": [
    "s1"
   ]
  },
  {
   "cell_type": "code",
   "execution_count": 60,
   "id": "4cb7718f-7b8b-442d-8e6e-fcde710a32f3",
   "metadata": {},
   "outputs": [],
   "source": [
    "l=[2,2,2,23,3,3,3,3]"
   ]
  },
  {
   "cell_type": "code",
   "execution_count": 62,
   "id": "ee6ecf90-7b94-4e7a-ba0b-e2adc128aebd",
   "metadata": {},
   "outputs": [],
   "source": [
    "l=list(set(l))"
   ]
  },
  {
   "cell_type": "code",
   "execution_count": 63,
   "id": "fe8b7b05-78e0-4620-afab-c2950637190f",
   "metadata": {},
   "outputs": [
    {
     "data": {
      "text/plain": [
       "[2, 3, 23]"
      ]
     },
     "execution_count": 63,
     "metadata": {},
     "output_type": "execute_result"
    }
   ],
   "source": [
    "l"
   ]
  },
  {
   "cell_type": "code",
   "execution_count": 64,
   "id": "db28778f-04e3-4636-a8b9-23922607d224",
   "metadata": {},
   "outputs": [
    {
     "data": {
      "text/plain": [
       "2"
      ]
     },
     "execution_count": 64,
     "metadata": {},
     "output_type": "execute_result"
    }
   ],
   "source": [
    "l[0]"
   ]
  },
  {
   "cell_type": "code",
   "execution_count": 65,
   "id": "7cb5db58-e007-492e-9a12-19f6056da29a",
   "metadata": {},
   "outputs": [
    {
     "data": {
      "text/plain": [
       "{(2, 3, 4), 5, 'Shashi'}"
      ]
     },
     "execution_count": 65,
     "metadata": {},
     "output_type": "execute_result"
    }
   ],
   "source": [
    "s1"
   ]
  },
  {
   "cell_type": "code",
   "execution_count": 66,
   "id": "0d68024b-0db2-43e7-8e63-b2d90eccd356",
   "metadata": {},
   "outputs": [
    {
     "ename": "TypeError",
     "evalue": "'set' object is not subscriptable",
     "output_type": "error",
     "traceback": [
      "\u001b[0;31m---------------------------------------------------------------------------\u001b[0m",
      "\u001b[0;31mTypeError\u001b[0m                                 Traceback (most recent call last)",
      "Cell \u001b[0;32mIn[66], line 1\u001b[0m\n\u001b[0;32m----> 1\u001b[0m \u001b[43ms1\u001b[49m\u001b[43m[\u001b[49m\u001b[38;5;241;43m0\u001b[39;49m\u001b[43m]\u001b[49m\n",
      "\u001b[0;31mTypeError\u001b[0m: 'set' object is not subscriptable"
     ]
    }
   ],
   "source": [
    "s1[0]"
   ]
  },
  {
   "cell_type": "code",
   "execution_count": 67,
   "id": "cf583788-0766-46d8-919b-01999316b5f5",
   "metadata": {},
   "outputs": [],
   "source": [
    "s1.add(4)"
   ]
  },
  {
   "cell_type": "code",
   "execution_count": 68,
   "id": "2fb7e673-870a-4428-9f7f-a7da658a4092",
   "metadata": {},
   "outputs": [
    {
     "data": {
      "text/plain": [
       "{(2, 3, 4), 4, 5, 'Shashi'}"
      ]
     },
     "execution_count": 68,
     "metadata": {},
     "output_type": "execute_result"
    }
   ],
   "source": [
    "s1"
   ]
  },
  {
   "cell_type": "code",
   "execution_count": 70,
   "id": "7e4517ff-2151-4720-9157-af75adad417b",
   "metadata": {},
   "outputs": [],
   "source": [
    "s1.remove(5)"
   ]
  },
  {
   "cell_type": "markdown",
   "id": "9cbd2545-fa00-4a71-bdeb-0c9ca3def118",
   "metadata": {},
   "source": [
    "# "
   ]
  },
  {
   "cell_type": "code",
   "execution_count": 71,
   "id": "87742639-d7e6-45ba-a675-4799c3099763",
   "metadata": {},
   "outputs": [
    {
     "data": {
      "text/plain": [
       "{(2, 3, 4), 4, 'Shashi'}"
      ]
     },
     "execution_count": 71,
     "metadata": {},
     "output_type": "execute_result"
    }
   ],
   "source": [
    "s1"
   ]
  },
  {
   "cell_type": "code",
   "execution_count": 72,
   "id": "483ef0c4-b4bd-43f4-ae5d-ae3096d36101",
   "metadata": {},
   "outputs": [],
   "source": [
    "d={}"
   ]
  },
  {
   "cell_type": "code",
   "execution_count": 73,
   "id": "fa66c161-e461-4111-9031-2cf519c26997",
   "metadata": {},
   "outputs": [
    {
     "data": {
      "text/plain": [
       "dict"
      ]
     },
     "execution_count": 73,
     "metadata": {},
     "output_type": "execute_result"
    }
   ],
   "source": [
    "type(d)"
   ]
  },
  {
   "cell_type": "code",
   "execution_count": 74,
   "id": "3503048c-02d4-43e4-8da8-fdbad9e48b91",
   "metadata": {},
   "outputs": [],
   "source": [
    "d1={'key':\"value\"}"
   ]
  },
  {
   "cell_type": "code",
   "execution_count": 75,
   "id": "00b7b632-13fa-489d-aec4-5f9c3b2075ee",
   "metadata": {},
   "outputs": [
    {
     "data": {
      "text/plain": [
       "{'key': 'value'}"
      ]
     },
     "execution_count": 75,
     "metadata": {},
     "output_type": "execute_result"
    }
   ],
   "source": [
    "d1"
   ]
  },
  {
   "cell_type": "code",
   "execution_count": 80,
   "id": "00aa240f-9a5f-49a4-8145-5afa86c23890",
   "metadata": {},
   "outputs": [],
   "source": [
    "d1={\"Name\":\"Shashi\", \"Age\": 28 , \"Age\": 31}"
   ]
  },
  {
   "cell_type": "code",
   "execution_count": 77,
   "id": "0962572e-3ac3-4143-a37c-a59688940e95",
   "metadata": {},
   "outputs": [
    {
     "data": {
      "text/plain": [
       "{'Name': 'Shashi', 'Age': 28}"
      ]
     },
     "execution_count": 77,
     "metadata": {},
     "output_type": "execute_result"
    }
   ],
   "source": [
    "d1"
   ]
  },
  {
   "cell_type": "code",
   "execution_count": 78,
   "id": "83e7df9d-abf5-4356-8257-b5d5a7552bf7",
   "metadata": {},
   "outputs": [
    {
     "data": {
      "text/plain": [
       "'Shashi'"
      ]
     },
     "execution_count": 78,
     "metadata": {},
     "output_type": "execute_result"
    }
   ],
   "source": [
    "d1[\"Name\"]"
   ]
  },
  {
   "cell_type": "code",
   "execution_count": 79,
   "id": "873b07da-56c8-484d-849e-64d67a6c54b5",
   "metadata": {},
   "outputs": [
    {
     "data": {
      "text/plain": [
       "28"
      ]
     },
     "execution_count": 79,
     "metadata": {},
     "output_type": "execute_result"
    }
   ],
   "source": [
    "d1[\"Age\"]"
   ]
  },
  {
   "cell_type": "code",
   "execution_count": 81,
   "id": "fcc1204e-301d-42f6-85ab-1904f0bdf003",
   "metadata": {},
   "outputs": [
    {
     "data": {
      "text/plain": [
       "{'Name': 'Shashi', 'Age': 31}"
      ]
     },
     "execution_count": 81,
     "metadata": {},
     "output_type": "execute_result"
    }
   ],
   "source": [
    "d1 "
   ]
  },
  {
   "cell_type": "code",
   "execution_count": 83,
   "id": "3494f8da-601c-416f-9001-a7506a2fd5d7",
   "metadata": {},
   "outputs": [],
   "source": [
    "d2={\"Company\":\"Pwskills\", \"Course\":[\"A\",\"B\"]}"
   ]
  },
  {
   "cell_type": "code",
   "execution_count": 84,
   "id": "8818cb1e-6407-4ad2-92d3-7e27af1d1d44",
   "metadata": {},
   "outputs": [
    {
     "data": {
      "text/plain": [
       "{'Company': 'Pwskills', 'Course': ['A', 'B']}"
      ]
     },
     "execution_count": 84,
     "metadata": {},
     "output_type": "execute_result"
    }
   ],
   "source": [
    "d2"
   ]
  },
  {
   "cell_type": "code",
   "execution_count": 87,
   "id": "8261d435-e058-4d16-9624-2409e9f960c9",
   "metadata": {},
   "outputs": [
    {
     "data": {
      "text/plain": [
       "'B'"
      ]
     },
     "execution_count": 87,
     "metadata": {},
     "output_type": "execute_result"
    }
   ],
   "source": [
    "d2['Course'][1]"
   ]
  },
  {
   "cell_type": "code",
   "execution_count": 90,
   "id": "242f8cd5-ac52-4c09-916b-c0fa172a9afe",
   "metadata": {},
   "outputs": [],
   "source": [
    "d3={\"Number\":[1,2,3,4,5],\"assignment\":(1,2,3),\"Class_Timing\":{\"opps\":4,\"C++\":6}}"
   ]
  },
  {
   "cell_type": "code",
   "execution_count": 91,
   "id": "cc13a97d-2f5d-4fb3-99c2-86f0fb1b90d0",
   "metadata": {},
   "outputs": [
    {
     "data": {
      "text/plain": [
       "{'Number': [1, 2, 3, 4, 5],\n",
       " 'assignment': (1, 2, 3),\n",
       " 'Class_Timing': {'opps': 4, 'C++': 6}}"
      ]
     },
     "execution_count": 91,
     "metadata": {},
     "output_type": "execute_result"
    }
   ],
   "source": [
    "d3"
   ]
  },
  {
   "cell_type": "code",
   "execution_count": 92,
   "id": "2bde7da8-a331-4f89-a2d5-0b843f4da852",
   "metadata": {},
   "outputs": [
    {
     "data": {
      "text/plain": [
       "4"
      ]
     },
     "execution_count": 92,
     "metadata": {},
     "output_type": "execute_result"
    }
   ],
   "source": [
    "d3[\"Class_Timing\"][\"opps\"]"
   ]
  },
  {
   "cell_type": "code",
   "execution_count": 93,
   "id": "a3845d63-ed11-488a-b66e-f88910337e07",
   "metadata": {},
   "outputs": [
    {
     "data": {
      "text/plain": [
       "{'Number': [1, 2, 3, 4, 5],\n",
       " 'assignment': (1, 2, 3),\n",
       " 'Class_Timing': {'opps': 4, 'C++': 6}}"
      ]
     },
     "execution_count": 93,
     "metadata": {},
     "output_type": "execute_result"
    }
   ],
   "source": [
    "d3"
   ]
  },
  {
   "cell_type": "code",
   "execution_count": 94,
   "id": "9375123d-3807-47f6-973b-5c20bf373ac0",
   "metadata": {},
   "outputs": [],
   "source": [
    "d3[\"mentor\"]=[\"Shashi\",\"kumar\"]"
   ]
  },
  {
   "cell_type": "code",
   "execution_count": 95,
   "id": "a87217a4-a48f-441f-b10d-30e773b09ea3",
   "metadata": {},
   "outputs": [
    {
     "data": {
      "text/plain": [
       "{'Number': [1, 2, 3, 4, 5],\n",
       " 'assignment': (1, 2, 3),\n",
       " 'Class_Timing': {'opps': 4, 'C++': 6},\n",
       " 'mentor': ['Shashi', 'kumar']}"
      ]
     },
     "execution_count": 95,
     "metadata": {},
     "output_type": "execute_result"
    }
   ],
   "source": [
    "d3"
   ]
  },
  {
   "cell_type": "code",
   "execution_count": 97,
   "id": "ef9ec21d-3cc0-4105-bd91-210327416034",
   "metadata": {},
   "outputs": [],
   "source": [
    "del d3[\"Number\"]"
   ]
  },
  {
   "cell_type": "code",
   "execution_count": 98,
   "id": "b25e076e-a9d5-4d83-8727-e576e908aae4",
   "metadata": {},
   "outputs": [
    {
     "data": {
      "text/plain": [
       "{'assignment': (1, 2, 3),\n",
       " 'Class_Timing': {'opps': 4, 'C++': 6},\n",
       " 'mentor': ['Shashi', 'kumar']}"
      ]
     },
     "execution_count": 98,
     "metadata": {},
     "output_type": "execute_result"
    }
   ],
   "source": [
    "d3"
   ]
  },
  {
   "cell_type": "code",
   "execution_count": 99,
   "id": "f16071eb-e10a-45c0-8f34-f1d8fdf1bb49",
   "metadata": {},
   "outputs": [
    {
     "data": {
      "text/plain": [
       "dict_keys(['assignment', 'Class_Timing', 'mentor'])"
      ]
     },
     "execution_count": 99,
     "metadata": {},
     "output_type": "execute_result"
    }
   ],
   "source": [
    "d3.keys()"
   ]
  },
  {
   "cell_type": "code",
   "execution_count": 101,
   "id": "16a55472-02d0-40d0-9553-be485bb8e727",
   "metadata": {},
   "outputs": [
    {
     "data": {
      "text/plain": [
       "[('assignment', (1, 2, 3)),\n",
       " ('Class_Timing', {'opps': 4, 'C++': 6}),\n",
       " ('mentor', ['Shashi', 'kumar'])]"
      ]
     },
     "execution_count": 101,
     "metadata": {},
     "output_type": "execute_result"
    }
   ],
   "source": [
    "list(d3.items())"
   ]
  },
  {
   "cell_type": "code",
   "execution_count": 104,
   "id": "d7a57059-35c8-45d9-981e-1a5dcae96dbf",
   "metadata": {},
   "outputs": [
    {
     "data": {
      "text/plain": [
       "(1, 2, 3)"
      ]
     },
     "execution_count": 104,
     "metadata": {},
     "output_type": "execute_result"
    }
   ],
   "source": [
    "d3.pop(\"assignment\")"
   ]
  },
  {
   "cell_type": "code",
   "execution_count": 105,
   "id": "192b5e9a-40f2-4d9f-b291-a32cbf0d5ab5",
   "metadata": {},
   "outputs": [
    {
     "data": {
      "text/plain": [
       "{'Class_Timing': {'opps': 4, 'C++': 6}, 'mentor': ['Shashi', 'kumar']}"
      ]
     },
     "execution_count": 105,
     "metadata": {},
     "output_type": "execute_result"
    }
   ],
   "source": [
    "d3"
   ]
  },
  {
   "cell_type": "code",
   "execution_count": 1,
   "id": "cdd91ccb-d4db-4a0f-abaf-d4b77ff7edcd",
   "metadata": {},
   "outputs": [
    {
     "ename": "NameError",
     "evalue": "name 'd3' is not defined",
     "output_type": "error",
     "traceback": [
      "\u001b[0;31m---------------------------------------------------------------------------\u001b[0m",
      "\u001b[0;31mNameError\u001b[0m                                 Traceback (most recent call last)",
      "Cell \u001b[0;32mIn[1], line 1\u001b[0m\n\u001b[0;32m----> 1\u001b[0m \u001b[43md3\u001b[49m\n",
      "\u001b[0;31mNameError\u001b[0m: name 'd3' is not defined"
     ]
    }
   ],
   "source": [
    "d3"
   ]
  },
  {
   "cell_type": "code",
   "execution_count": 4,
   "id": "55f17470-b64b-4199-b8e6-b2d805424783",
   "metadata": {},
   "outputs": [
    {
     "name": "stdin",
     "output_type": "stream",
     "text": [
      "Input the price 21000\n"
     ]
    },
    {
     "name": "stdout",
     "output_type": "stream",
     "text": [
      "I will not purchase\n",
      "Price is too Much\n"
     ]
    }
   ],
   "source": [
    "price=int(input(\"Input the price\"))\n",
    "if price > 10000:\n",
    "    print(\"I will not purchase\")\n",
    "    if price > 20000:\n",
    "        print(\"Price is too Much\")\n",
    "else:\n",
    "    print(\"I will purchase\")"
   ]
  },
  {
   "cell_type": "code",
   "execution_count": 11,
   "id": "d7cb7b8c-f54b-45e2-adf5-472548be9dce",
   "metadata": {},
   "outputs": [],
   "source": [
    "l=[1,2,3,4,5,6]"
   ]
  },
  {
   "cell_type": "code",
   "execution_count": 12,
   "id": "fe61d648-0fbb-445a-9a45-c775034d6f7b",
   "metadata": {},
   "outputs": [
    {
     "data": {
      "text/plain": [
       "[1, 2, 3, 4, 5, 6]"
      ]
     },
     "execution_count": 12,
     "metadata": {},
     "output_type": "execute_result"
    }
   ],
   "source": [
    "l"
   ]
  },
  {
   "cell_type": "code",
   "execution_count": 13,
   "id": "7191355d-55c0-4bcf-bb5c-003213153d6d",
   "metadata": {},
   "outputs": [
    {
     "name": "stdout",
     "output_type": "stream",
     "text": [
      "[2, 3, 4, 5, 6, 7]\n"
     ]
    }
   ],
   "source": [
    "a=[]\n",
    "for i in l:\n",
    "    a.append(i+1)\n",
    "print(a)\n",
    "    "
   ]
  },
  {
   "cell_type": "code",
   "execution_count": 14,
   "id": "1a86384d-fb6f-4314-bc4c-ddae54c7d001",
   "metadata": {},
   "outputs": [],
   "source": [
    "l=[\"sudh\",\"Kumar\",\"pwskills\",\"course\"]"
   ]
  },
  {
   "cell_type": "code",
   "execution_count": 15,
   "id": "16c79f25-7a2e-4c3a-8a5c-ee68941863be",
   "metadata": {},
   "outputs": [
    {
     "data": {
      "text/plain": [
       "['sudh', 'Kumar', 'pwskills', 'course']"
      ]
     },
     "execution_count": 15,
     "metadata": {},
     "output_type": "execute_result"
    }
   ],
   "source": [
    "l"
   ]
  },
  {
   "cell_type": "code",
   "execution_count": 17,
   "id": "b2ce1928-e458-4c62-81ec-5ed53d36f68f",
   "metadata": {},
   "outputs": [
    {
     "name": "stdout",
     "output_type": "stream",
     "text": [
      "['Sudh', 'Kumar', 'Pwskills', 'Course']\n"
     ]
    }
   ],
   "source": [
    "a=[]\n",
    "for i in l:\n",
    "    a.append(i.title())\n",
    "print(a)"
   ]
  },
  {
   "cell_type": "code",
   "execution_count": 18,
   "id": "0c75a41e-5db0-4468-a54a-4ac5a12e4e15",
   "metadata": {},
   "outputs": [],
   "source": [
    "l=[1,2,3,4,5,\"sudh\",\"kumar\", 324, 34.45,\"abc\"]"
   ]
  },
  {
   "cell_type": "code",
   "execution_count": 22,
   "id": "4c91c1cf-eee8-457d-88b1-e6a13a27212a",
   "metadata": {},
   "outputs": [],
   "source": [
    "n=[]\n",
    "a=[]\n",
    "for i in l:\n",
    "    if type(i)==str:\n",
    "        a.append(i)\n",
    "    else:\n",
    "        n.append(i)"
   ]
  },
  {
   "cell_type": "code",
   "execution_count": 24,
   "id": "1fc982f4-cad2-42ec-9a40-9f2745b05d2b",
   "metadata": {},
   "outputs": [
    {
     "data": {
      "text/plain": [
       "[1, 2, 3, 4, 5, 324, 34.45]"
      ]
     },
     "execution_count": 24,
     "metadata": {},
     "output_type": "execute_result"
    }
   ],
   "source": [
    "n"
   ]
  },
  {
   "cell_type": "code",
   "execution_count": null,
   "id": "b0f5ae6e-0c8b-46f6-8408-25b37e3107b1",
   "metadata": {},
   "outputs": [],
   "source": []
  }
 ],
 "metadata": {
  "kernelspec": {
   "display_name": "Python 3 (ipykernel)",
   "language": "python",
   "name": "python3"
  },
  "language_info": {
   "codemirror_mode": {
    "name": "ipython",
    "version": 3
   },
   "file_extension": ".py",
   "mimetype": "text/x-python",
   "name": "python",
   "nbconvert_exporter": "python",
   "pygments_lexer": "ipython3",
   "version": "3.10.8"
  }
 },
 "nbformat": 4,
 "nbformat_minor": 5
}
