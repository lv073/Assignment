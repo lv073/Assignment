{
 "cells": [
  {
   "cell_type": "markdown",
   "id": "e6f6ad32-55f4-47e1-ba12-67dc3978882c",
   "metadata": {},
   "source": [
    "Q1. Explain with an example each when to use a for loop and a while loop."
   ]
  },
  {
   "cell_type": "code",
   "execution_count": 66,
   "id": "6766bde9-a404-4ed2-9e66-f8b8b0ea123c",
   "metadata": {},
   "outputs": [
    {
     "name": "stdout",
     "output_type": "stream",
     "text": [
      "0\n",
      "1\n",
      "2\n",
      "3\n",
      "4\n"
     ]
    }
   ],
   "source": [
    "#For loop is used when we know the loop should execute n times.\n",
    "for i in range(5):\n",
    "    print(i)"
   ]
  },
  {
   "cell_type": "code",
   "execution_count": 70,
   "id": "ba17314c-fa81-45c4-8ecb-e37b7b10c749",
   "metadata": {},
   "outputs": [
    {
     "name": "stdout",
     "output_type": "stream",
     "text": [
      "0\n",
      "1\n",
      "2\n",
      "3\n",
      "4\n",
      "5\n"
     ]
    }
   ],
   "source": [
    "# While loop is used when we have to run the iterations any number of times until and unless the condition is met.\n",
    "i=0\n",
    "while(i<=5):\n",
    "    print(i)\n",
    "    i=i+1"
   ]
  },
  {
   "cell_type": "markdown",
   "id": "2ba12aac-5f92-4385-8774-a0bb5ad5b93b",
   "metadata": {},
   "source": [
    "Q2. Write a python program to print the sum and product of the first 10 natural numbers using for\n",
    "and while loop."
   ]
  },
  {
   "cell_type": "code",
   "execution_count": 5,
   "id": "f2cf1bbf-5688-42a3-a029-021b39fb8483",
   "metadata": {},
   "outputs": [
    {
     "name": "stdout",
     "output_type": "stream",
     "text": [
      "SUM= 55\n",
      "PRODUCT= 3628800\n"
     ]
    }
   ],
   "source": [
    "#For loop\n",
    "s=0\n",
    "p=1\n",
    "for i in range(1,11):\n",
    "    s=s+i\n",
    "    p=p*i\n",
    "print(\"SUM=\",s)\n",
    "print(\"PRODUCT=\",p)"
   ]
  },
  {
   "cell_type": "code",
   "execution_count": 12,
   "id": "7bf7e4ad-9526-4dca-b37c-3c3c08bba2ef",
   "metadata": {},
   "outputs": [
    {
     "name": "stdout",
     "output_type": "stream",
     "text": [
      "SUM= 55\n",
      "PRODUCT= 3628800\n"
     ]
    }
   ],
   "source": [
    "#While loop\n",
    "s=0\n",
    "p=1\n",
    "i=1\n",
    "while(i<=10):\n",
    "    s=s+i\n",
    "    p=p*i\n",
    "    i=i+1\n",
    "print(\"SUM=\",s)\n",
    "print(\"PRODUCT=\",p)"
   ]
  },
  {
   "cell_type": "markdown",
   "id": "c8d13bc3-dd2b-455c-b7bd-2136e650de94",
   "metadata": {},
   "source": [
    "Q3. Create a python program to compute the electricity bill for a household.\n",
    "\n",
    "The per-unit charges in rupees are as follows: For the first 100 units, the user will be charged Rs. 4.5 per\n",
    "unit, for the next 100 units, the user will be charged Rs. 6 per unit, and for the next 100 units, the user will\n",
    "be charged Rs. 10 per unit, After 300 units and above the user will be charged Rs. 20 per unit.\n",
    "\n",
    "You are required to take the units of electricity consumed in a month from the user as input.\n",
    "\n",
    "\n",
    "Your program must pass this test case: when the unit of electricity consumed by the user in a month is\n",
    "310, the total electricity bill should be 2250."
   ]
  },
  {
   "cell_type": "code",
   "execution_count": 38,
   "id": "9a25cd40-22b9-4518-b63a-303c0f3b4d53",
   "metadata": {},
   "outputs": [
    {
     "name": "stdin",
     "output_type": "stream",
     "text": [
      "Enter the electricity consumed in a month 310\n"
     ]
    },
    {
     "name": "stdout",
     "output_type": "stream",
     "text": [
      "2250.0\n"
     ]
    }
   ],
   "source": [
    "bill=0\n",
    "consumed_unit=int(input(\"Enter the electricity consumed in a month\"))\n",
    "\n",
    "if (consumed_unit<=100):\n",
    "    bill=consumed_unit*4.5\n",
    "elif (consumed_unit>100 and consumed_unit<=200):\n",
    "    bill=100*4.5+(consumed_unit-100)* 6\n",
    "elif (consumed_unit>200 and consumed_unit<=300):\n",
    "    bill=1050 +(consumed_unit-200)*10\n",
    "else:\n",
    "    bill=100*4.5+ 100*6+100*10+(consumed_unit-300)*20\n",
    "print(bill)"
   ]
  },
  {
   "cell_type": "markdown",
   "id": "8f218be9-3775-4a80-838e-e19b660f11e0",
   "metadata": {},
   "source": [
    "Q4. Create a list of numbers from 1 to 100. Use for loop and while loop to calculate the cube of each\n",
    "number and if the cube of that number is divisible by 4 or 5 then append that number in a list and print\n",
    "that list."
   ]
  },
  {
   "cell_type": "code",
   "execution_count": 50,
   "id": "bbc3a3f8-8398-4ecd-a6aa-ca60b161e37f",
   "metadata": {},
   "outputs": [
    {
     "name": "stdout",
     "output_type": "stream",
     "text": [
      "[8, 64, 125, 216, 512, 1000, 1728, 2744, 3375, 4096, 5832, 8000, 10648, 13824, 15625, 17576, 21952, 27000, 32768, 39304, 42875, 46656, 54872, 64000, 74088, 85184, 91125, 97336, 110592, 125000, 140608, 157464, 166375, 175616, 195112, 216000, 238328, 262144, 274625, 287496, 314432, 343000, 373248, 405224, 421875, 438976, 474552, 512000, 551368, 592704, 614125, 636056, 681472, 729000, 778688, 830584, 857375, 884736, 941192, 1000000]\n"
     ]
    }
   ],
   "source": [
    "#For loop\n",
    "l=[]\n",
    "for i in range(1,101):\n",
    "    a=i**3\n",
    "    if ((a%4==0) or (a%5==0)):\n",
    "        l.append(a)\n",
    "print(l)\n",
    "        "
   ]
  },
  {
   "cell_type": "code",
   "execution_count": 52,
   "id": "d051b8d8-7484-4f9d-8543-530e200297e4",
   "metadata": {},
   "outputs": [
    {
     "name": "stdout",
     "output_type": "stream",
     "text": [
      "[8, 64, 125, 216, 512, 1000, 1728, 2744, 3375, 4096, 5832, 8000, 10648, 13824, 15625, 17576, 21952, 27000, 32768, 39304, 42875, 46656, 54872, 64000, 74088, 85184, 91125, 97336, 110592, 125000, 140608, 157464, 166375, 175616, 195112, 216000, 238328, 262144, 274625, 287496, 314432, 343000, 373248, 405224, 421875, 438976, 474552, 512000, 551368, 592704, 614125, 636056, 681472, 729000, 778688, 830584, 857375, 884736, 941192, 1000000]\n"
     ]
    }
   ],
   "source": [
    "#While loop\n",
    "l=[]\n",
    "i=1\n",
    "while(i<=100):\n",
    "    a=i**3\n",
    "    if ((a%4==0) or (a%5==0)):\n",
    "        l.append(a)\n",
    "    i=i+1\n",
    "print(l)\n",
    "    "
   ]
  },
  {
   "cell_type": "markdown",
   "id": "a96a040d-a71e-4306-b92e-f86bcd5c2bc5",
   "metadata": {},
   "source": [
    "Q5. Write a program to filter count vowels in the below-given string.\n",
    "\n",
    "string = \"I want to become a data scientist\""
   ]
  },
  {
   "cell_type": "code",
   "execution_count": 65,
   "id": "c0002f53-b6f7-4956-a8c1-3c64b7e0b1bd",
   "metadata": {},
   "outputs": [
    {
     "name": "stdout",
     "output_type": "stream",
     "text": [
      "Vowels present in the String: ['I', 'a', 'o', 'e', 'o', 'e', 'a', 'a', 'a', 'i', 'e', 'i']\n",
      "Total vowels = 12\n"
     ]
    }
   ],
   "source": [
    "v=[]\n",
    "string = \"I want to become a data scientist\"\n",
    "for m in string:\n",
    "    if m==\"a\" or m==\"A\" or m==\"e\" or m==\"E\" or m==\"i\" or m==\"I\" or m==\"o\" or m==\"O\" or m==\"u\" or m==\"U\":\n",
    "        v.append(m)\n",
    "print(\"Vowels present in the String:\", v)\n",
    "print(\"Total vowels =\",len(v))"
   ]
  },
  {
   "cell_type": "code",
   "execution_count": null,
   "id": "3e5e2b6b-1dc6-449a-9f32-d80f795ae4d8",
   "metadata": {},
   "outputs": [],
   "source": []
  }
 ],
 "metadata": {
  "kernelspec": {
   "display_name": "Python 3 (ipykernel)",
   "language": "python",
   "name": "python3"
  },
  "language_info": {
   "codemirror_mode": {
    "name": "ipython",
    "version": 3
   },
   "file_extension": ".py",
   "mimetype": "text/x-python",
   "name": "python",
   "nbconvert_exporter": "python",
   "pygments_lexer": "ipython3",
   "version": "3.10.8"
  }
 },
 "nbformat": 4,
 "nbformat_minor": 5
}
