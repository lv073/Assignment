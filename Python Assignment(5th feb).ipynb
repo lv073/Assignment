{
 "cells": [
  {
   "cell_type": "markdown",
   "id": "bb434eed-fc80-4561-8313-35155c384197",
   "metadata": {},
   "source": [
    "Q1. Explain Class and Object with respect to Object-Oriented Programming. Give a suitable example."
   ]
  },
  {
   "cell_type": "markdown",
   "id": "1e5380df-f3fc-4e83-98c9-00a8d205bed2",
   "metadata": {},
   "source": [
    "Class is the user defined layout or blueprint or template that describe the specific kind of object the class will look like. It helps us to bind data and methods together making the code reusable."
   ]
  },
  {
   "cell_type": "markdown",
   "id": "c025be69-f601-49cd-a477-6a3f0ae59e67",
   "metadata": {},
   "source": [
    "Object is the single instance of a class, which makes data and methods working on that data."
   ]
  },
  {
   "cell_type": "code",
   "execution_count": 2,
   "id": "9c550e10-1f5b-47e0-bd43-f4c53edcd203",
   "metadata": {},
   "outputs": [],
   "source": [
    "class math():\n",
    "    def add(self,a,b):\n",
    "        print(a+b)\n",
    "    def sub(self,a,b):\n",
    "        print(a-b)"
   ]
  },
  {
   "cell_type": "code",
   "execution_count": 3,
   "id": "086bebcc-e96b-44e3-a27f-7253abca6e50",
   "metadata": {},
   "outputs": [],
   "source": [
    "a=math()"
   ]
  },
  {
   "cell_type": "code",
   "execution_count": 4,
   "id": "c64cee0f-d128-4819-9f21-2fb9a5987d16",
   "metadata": {},
   "outputs": [
    {
     "name": "stdout",
     "output_type": "stream",
     "text": [
      "7\n"
     ]
    }
   ],
   "source": [
    "a.add(3,4)"
   ]
  },
  {
   "cell_type": "code",
   "execution_count": 5,
   "id": "107f0111-59a8-4735-89bc-5d14013af36a",
   "metadata": {},
   "outputs": [
    {
     "name": "stdout",
     "output_type": "stream",
     "text": [
      "-1\n"
     ]
    }
   ],
   "source": [
    "a.sub(3,4)"
   ]
  },
  {
   "cell_type": "markdown",
   "id": "3df1a644-9f52-472e-8e90-f80ff19d2b42",
   "metadata": {},
   "source": [
    "Q2. Name the four pillars of OOPs."
   ]
  },
  {
   "cell_type": "markdown",
   "id": "88afa641-c14c-4290-8c35-6e8ccb403109",
   "metadata": {},
   "source": [
    "The four pillars of object-oriented programming are:\n",
    "Abstraction, \n",
    "Encapsulation, \n",
    "Inheritance, \n",
    "Polymorphism"
   ]
  },
  {
   "cell_type": "markdown",
   "id": "40e67092-f952-4154-ba5b-bbd93505875d",
   "metadata": {},
   "source": [
    "Q3. Explain why the __init__() function is used. Give a suitable example."
   ]
  },
  {
   "cell_type": "markdown",
   "id": "97905f40-4c9c-49dc-8b91-3ee874fdc13c",
   "metadata": {},
   "source": [
    "__init__ is a method that runs whenever a new object is created. This functions is used to initialize that is to assign values to the data members of the class when an object of the class is created."
   ]
  },
  {
   "cell_type": "code",
   "execution_count": 12,
   "id": "fd2b318d-fb28-4b52-9876-9b11a3bc44b4",
   "metadata": {},
   "outputs": [],
   "source": [
    "class p:\n",
    "    def __init__(self, name):\n",
    "        self.name = name\n",
    " \n",
    "    def hello(self):\n",
    "        print('Hello, my name is', self.name)"
   ]
  },
  {
   "cell_type": "code",
   "execution_count": 13,
   "id": "a50c0aee-8e4a-4432-b32b-deaa921a481f",
   "metadata": {},
   "outputs": [],
   "source": [
    "a=p(\"Shashi\")"
   ]
  },
  {
   "cell_type": "code",
   "execution_count": 15,
   "id": "65714794-6e68-4d70-9837-b97db2ee2423",
   "metadata": {},
   "outputs": [
    {
     "name": "stdout",
     "output_type": "stream",
     "text": [
      "Hello, my name is Shashi\n"
     ]
    }
   ],
   "source": [
    "a.hello()"
   ]
  },
  {
   "cell_type": "markdown",
   "id": "109d2d1f-5b91-460c-ad9b-720a06fecf02",
   "metadata": {},
   "source": [
    "Q4. Why self is used in OOPs?"
   ]
  },
  {
   "cell_type": "markdown",
   "id": "3be7d9dd-eb8c-48c8-b8a9-48172c0e4095",
   "metadata": {},
   "source": [
    "It is used to refer to instance attributes. When objects are instantiated, the object itself is passed into the self parameter so that the object can keep hold of its own data."
   ]
  },
  {
   "cell_type": "markdown",
   "id": "60537dba-7282-4c1c-a326-8aa7814b3dad",
   "metadata": {},
   "source": [
    "Q5. What is inheritance? Give an example for each type of inheritance."
   ]
  },
  {
   "cell_type": "markdown",
   "id": "d04711ac-62e6-411a-9040-1ba622b660ec",
   "metadata": {},
   "source": [
    "Inheritance is the mechanism of inheriting the properties of the base class to the child class."
   ]
  },
  {
   "cell_type": "markdown",
   "id": "9178b3d6-432e-47d4-8c97-f6e3e00dbc61",
   "metadata": {},
   "source": [
    "Types of Inheritance depend upon the number of child and parent classes involved. There are four types of inheritance in Python:"
   ]
  },
  {
   "cell_type": "markdown",
   "id": "728cc9be-d6e8-4c5e-b836-835009e8f407",
   "metadata": {},
   "source": [
    "1.Single Inheritance: Single inheritance enables a derived class to inherit properties from a single parent class"
   ]
  },
  {
   "cell_type": "code",
   "execution_count": 16,
   "id": "3cbbd58e-9597-4aeb-89c3-8378a4fb9615",
   "metadata": {},
   "outputs": [],
   "source": [
    "class Parent:\n",
    "    def func1(self):\n",
    "        print(\"This function is in parent class.\")\n",
    "class Child(Parent):\n",
    "    def func2(self):\n",
    "        print(\"This function is in child class.\")"
   ]
  },
  {
   "cell_type": "code",
   "execution_count": 18,
   "id": "6238b723-80d6-43e0-8e38-2803d9b93e35",
   "metadata": {},
   "outputs": [
    {
     "name": "stdout",
     "output_type": "stream",
     "text": [
      "This function is in parent class.\n",
      "This function is in child class.\n"
     ]
    }
   ],
   "source": [
    "o= Child()\n",
    "o.func1()\n",
    "o.func2()"
   ]
  },
  {
   "cell_type": "markdown",
   "id": "b60859b2-95a1-4763-a47d-57d0c848cb33",
   "metadata": {},
   "source": [
    "2. Multiple Inheritance: When a class can be derived from more than one base class,  all the features of the base classes are inherited into the derived class. "
   ]
  },
  {
   "cell_type": "code",
   "execution_count": 19,
   "id": "9d01062b-6d23-4015-84d5-e9a7e3018682",
   "metadata": {},
   "outputs": [],
   "source": [
    "class Mother:\n",
    "    mothername = \"\"\n",
    "    def mother(self):\n",
    "        print(self.mothername)\n",
    "class Father:\n",
    "    fathername = \"\"\n",
    "    def father(self):\n",
    "        print(self.fathername)\n",
    "class Son(Mother, Father):\n",
    "    def parents(self):\n",
    "        print(\"Father :\", self.fathername)\n",
    "        print(\"Mother :\", self.mothername)"
   ]
  },
  {
   "cell_type": "code",
   "execution_count": 20,
   "id": "5c1d23de-4965-4299-a6f7-bbac69e878ed",
   "metadata": {},
   "outputs": [
    {
     "name": "stdout",
     "output_type": "stream",
     "text": [
      "Father : RAM\n",
      "Mother : SITA\n"
     ]
    }
   ],
   "source": [
    "s = Son()\n",
    "s.fathername = \"RAM\"\n",
    "s.mothername = \"SITA\"\n",
    "s.parents()"
   ]
  },
  {
   "cell_type": "markdown",
   "id": "7f2ce22b-4e7c-4ce5-bfbe-58b568d7d7b8",
   "metadata": {},
   "source": [
    "3. Multilevel Inheritance : In this features of the base class and the derived class are further inherited into the new derived class"
   ]
  },
  {
   "cell_type": "code",
   "execution_count": 2,
   "id": "05a38893-8793-439e-8a66-30c54e6051ed",
   "metadata": {},
   "outputs": [],
   "source": [
    "class Grandfather:\n",
    "    def __init__(self, grandfathername):\n",
    "        self.grandfathername = grandfathername\n",
    "class Father(Grandfather):\n",
    "    def __init__(self, fathername, grandfathername):\n",
    "        self.fathername = fathername\n",
    "        # invoking constructor of Grandfather class\n",
    "        Grandfather.__init__(self, grandfathername)\n",
    " #Derived class\n",
    "class Son(Father):\n",
    "    def __init__(self, sonname, fathername, grandfathername):\n",
    "        self.sonname = sonname\n",
    "        # invoking constructor of Father class\n",
    "        Father.__init__(self, fathername, grandfathername)\n",
    " \n",
    "    def print_name(self):\n",
    "        print('Grandfather name :', self.grandfathername)\n",
    "        print(\"Father name :\", self.fathername)\n",
    "        print(\"Son name :\", self.sonname)"
   ]
  },
  {
   "cell_type": "code",
   "execution_count": 4,
   "id": "d7e0e3dc-58be-4b31-9afe-e0fe9158324e",
   "metadata": {},
   "outputs": [
    {
     "name": "stdout",
     "output_type": "stream",
     "text": [
      "Grandfather name : Shambhu\n",
      "Father name : Ram Prasad\n",
      "Son name : Shashi\n"
     ]
    }
   ],
   "source": [
    "s1 = Son('Shashi', 'Ram Prasad', 'Shambhu')\n",
    "s1.print_name()"
   ]
  },
  {
   "cell_type": "markdown",
   "id": "bc612926-94d8-41a2-8884-d8ee896bf7ef",
   "metadata": {},
   "source": [
    "Hierarchical Inheritance: When more than one derived class are created from a single base this type of inheritance"
   ]
  },
  {
   "cell_type": "code",
   "execution_count": 5,
   "id": "7a88c237-da67-43c5-8148-504874dc5a79",
   "metadata": {},
   "outputs": [],
   "source": [
    "class Parent:\n",
    "    def func1(self):\n",
    "        print(\"This is parent class.\")\n",
    " # Derived from base class\n",
    "class Child1(Parent):\n",
    "    def func2(self):\n",
    "        print(\"This is child 1.\")\n",
    "# Derivied from base class\n",
    "class Child2(Parent):\n",
    "    def func3(self):\n",
    "        print(\"This is child 2.\")"
   ]
  },
  {
   "cell_type": "code",
   "execution_count": 6,
   "id": "e58ef252-e207-4309-b274-8c43958ff1c0",
   "metadata": {},
   "outputs": [
    {
     "name": "stdout",
     "output_type": "stream",
     "text": [
      "This is parent class.\n",
      "This is child 1.\n",
      "This is parent class.\n",
      "This is child 2.\n"
     ]
    }
   ],
   "source": [
    "object1 = Child1()\n",
    "object2 = Child2()\n",
    "object1.func1()\n",
    "object1.func2()\n",
    "object2.func1()\n",
    "object2.func3()"
   ]
  },
  {
   "cell_type": "code",
   "execution_count": null,
   "id": "2d9a1a22-3d58-46e1-98c3-40618d6a525f",
   "metadata": {},
   "outputs": [],
   "source": []
  }
 ],
 "metadata": {
  "kernelspec": {
   "display_name": "Python 3 (ipykernel)",
   "language": "python",
   "name": "python3"
  },
  "language_info": {
   "codemirror_mode": {
    "name": "ipython",
    "version": 3
   },
   "file_extension": ".py",
   "mimetype": "text/x-python",
   "name": "python",
   "nbconvert_exporter": "python",
   "pygments_lexer": "ipython3",
   "version": "3.10.8"
  }
 },
 "nbformat": 4,
 "nbformat_minor": 5
}
